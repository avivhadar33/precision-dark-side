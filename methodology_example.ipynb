{
 "cells": [
  {
   "cell_type": "code",
   "execution_count": 1,
   "metadata": {},
   "outputs": [],
   "source": [
    "import matplotlib.pyplot as plt\n",
    "import pandas as pd\n",
    "import numpy as np"
   ]
  },
  {
   "cell_type": "markdown",
   "metadata": {},
   "source": [
    "# Get Data"
   ]
  },
  {
   "cell_type": "code",
   "execution_count": 2,
   "metadata": {},
   "outputs": [],
   "source": [
    "with open('letter_ds.data') as f:\n",
    "    rows = f.readlines()"
   ]
  },
  {
   "cell_type": "code",
   "execution_count": 3,
   "metadata": {},
   "outputs": [],
   "source": [
    "labels = []\n",
    "features = []\n",
    "for row in rows:\n",
    "    row_splited = row.split(' ')\n",
    "    labels.append(row_splited[0])\n",
    "    features.append({f.split(':')[0]: f.split(':')[1] for f in row_splited[1:] if len(f) > 0 and f != '\\n'})"
   ]
  },
  {
   "cell_type": "code",
   "execution_count": 4,
   "metadata": {},
   "outputs": [
    {
     "data": {
      "text/html": [
       "<div>\n",
       "<style scoped>\n",
       "    .dataframe tbody tr th:only-of-type {\n",
       "        vertical-align: middle;\n",
       "    }\n",
       "\n",
       "    .dataframe tbody tr th {\n",
       "        vertical-align: top;\n",
       "    }\n",
       "\n",
       "    .dataframe thead th {\n",
       "        text-align: right;\n",
       "    }\n",
       "</style>\n",
       "<table border=\"1\" class=\"dataframe\">\n",
       "  <thead>\n",
       "    <tr style=\"text-align: right;\">\n",
       "      <th></th>\n",
       "      <th>1</th>\n",
       "      <th>2</th>\n",
       "      <th>3</th>\n",
       "      <th>4</th>\n",
       "      <th>5</th>\n",
       "      <th>6</th>\n",
       "      <th>7</th>\n",
       "      <th>8</th>\n",
       "      <th>9</th>\n",
       "      <th>10</th>\n",
       "      <th>11</th>\n",
       "      <th>12</th>\n",
       "      <th>13</th>\n",
       "      <th>14</th>\n",
       "      <th>15</th>\n",
       "      <th>16</th>\n",
       "      <th>target</th>\n",
       "    </tr>\n",
       "  </thead>\n",
       "  <tbody>\n",
       "    <tr>\n",
       "      <th>0</th>\n",
       "      <td>-0.733333</td>\n",
       "      <td>-0.466667</td>\n",
       "      <td>-0.466667</td>\n",
       "      <td>-0.600000</td>\n",
       "      <td>-0.733333</td>\n",
       "      <td>-0.066667</td>\n",
       "      <td>0.066667</td>\n",
       "      <td>-0.733333</td>\n",
       "      <td>0.200000</td>\n",
       "      <td>0.466667</td>\n",
       "      <td>-0.066667</td>\n",
       "      <td>-0.066667</td>\n",
       "      <td>-0.866667</td>\n",
       "      <td>0.066667</td>\n",
       "      <td>-0.333333</td>\n",
       "      <td>-0.200000</td>\n",
       "      <td>26</td>\n",
       "    </tr>\n",
       "    <tr>\n",
       "      <th>1</th>\n",
       "      <td>-0.466667</td>\n",
       "      <td>-0.066667</td>\n",
       "      <td>-0.333333</td>\n",
       "      <td>-0.333333</td>\n",
       "      <td>-0.333333</td>\n",
       "      <td>-0.333333</td>\n",
       "      <td>0.200000</td>\n",
       "      <td>-0.200000</td>\n",
       "      <td>-0.466667</td>\n",
       "      <td>0.066667</td>\n",
       "      <td>-0.066667</td>\n",
       "      <td>0.200000</td>\n",
       "      <td>-0.733333</td>\n",
       "      <td>0.200000</td>\n",
       "      <td>-0.066667</td>\n",
       "      <td>0.333333</td>\n",
       "      <td>16</td>\n",
       "    </tr>\n",
       "    <tr>\n",
       "      <th>2</th>\n",
       "      <td>-0.066667</td>\n",
       "      <td>0.333333</td>\n",
       "      <td>0.066667</td>\n",
       "      <td>-0.066667</td>\n",
       "      <td>-0.466667</td>\n",
       "      <td>0.066667</td>\n",
       "      <td>0.066667</td>\n",
       "      <td>-0.333333</td>\n",
       "      <td>0.333333</td>\n",
       "      <td>0.466667</td>\n",
       "      <td>-0.733333</td>\n",
       "      <td>0.066667</td>\n",
       "      <td>-0.733333</td>\n",
       "      <td>-0.333333</td>\n",
       "      <td>-0.333333</td>\n",
       "      <td>0.333333</td>\n",
       "      <td>19</td>\n",
       "    </tr>\n",
       "    <tr>\n",
       "      <th>3</th>\n",
       "      <td>-0.466667</td>\n",
       "      <td>0.200000</td>\n",
       "      <td>-0.333333</td>\n",
       "      <td>-0.066667</td>\n",
       "      <td>-0.466667</td>\n",
       "      <td>-0.066667</td>\n",
       "      <td>-0.066667</td>\n",
       "      <td>0.733333</td>\n",
       "      <td>-0.866667</td>\n",
       "      <td>-0.066667</td>\n",
       "      <td>-0.200000</td>\n",
       "      <td>0.066667</td>\n",
       "      <td>-0.600000</td>\n",
       "      <td>0.066667</td>\n",
       "      <td>-1.000000</td>\n",
       "      <td>0.066667</td>\n",
       "      <td>8</td>\n",
       "    </tr>\n",
       "    <tr>\n",
       "      <th>4</th>\n",
       "      <td>-0.200000</td>\n",
       "      <td>-0.066667</td>\n",
       "      <td>0.066667</td>\n",
       "      <td>-0.333333</td>\n",
       "      <td>-0.466667</td>\n",
       "      <td>-0.066667</td>\n",
       "      <td>-0.200000</td>\n",
       "      <td>-0.600000</td>\n",
       "      <td>-0.066667</td>\n",
       "      <td>0.333333</td>\n",
       "      <td>-0.066667</td>\n",
       "      <td>0.200000</td>\n",
       "      <td>-0.600000</td>\n",
       "      <td>0.066667</td>\n",
       "      <td>-0.600000</td>\n",
       "      <td>-0.066667</td>\n",
       "      <td>8</td>\n",
       "    </tr>\n",
       "  </tbody>\n",
       "</table>\n",
       "</div>"
      ],
      "text/plain": [
       "          1         2         3         4         5         6         7  \\\n",
       "0 -0.733333 -0.466667 -0.466667 -0.600000 -0.733333 -0.066667  0.066667   \n",
       "1 -0.466667 -0.066667 -0.333333 -0.333333 -0.333333 -0.333333  0.200000   \n",
       "2 -0.066667  0.333333  0.066667 -0.066667 -0.466667  0.066667  0.066667   \n",
       "3 -0.466667  0.200000 -0.333333 -0.066667 -0.466667 -0.066667 -0.066667   \n",
       "4 -0.200000 -0.066667  0.066667 -0.333333 -0.466667 -0.066667 -0.200000   \n",
       "\n",
       "          8         9        10        11        12        13        14  \\\n",
       "0 -0.733333  0.200000  0.466667 -0.066667 -0.066667 -0.866667  0.066667   \n",
       "1 -0.200000 -0.466667  0.066667 -0.066667  0.200000 -0.733333  0.200000   \n",
       "2 -0.333333  0.333333  0.466667 -0.733333  0.066667 -0.733333 -0.333333   \n",
       "3  0.733333 -0.866667 -0.066667 -0.200000  0.066667 -0.600000  0.066667   \n",
       "4 -0.600000 -0.066667  0.333333 -0.066667  0.200000 -0.600000  0.066667   \n",
       "\n",
       "         15        16  target  \n",
       "0 -0.333333 -0.200000      26  \n",
       "1 -0.066667  0.333333      16  \n",
       "2 -0.333333  0.333333      19  \n",
       "3 -1.000000  0.066667       8  \n",
       "4 -0.600000 -0.066667       8  "
      ]
     },
     "execution_count": 4,
     "metadata": {},
     "output_type": "execute_result"
    }
   ],
   "source": [
    "df = pd.DataFrame(features)\n",
    "df = df.astype(float)\n",
    "df['target'] = [int(l) for l in labels]\n",
    "\n",
    "df.head()"
   ]
  },
  {
   "cell_type": "code",
   "execution_count": 5,
   "metadata": {},
   "outputs": [
    {
     "data": {
      "text/html": [
       "<div>\n",
       "<style scoped>\n",
       "    .dataframe tbody tr th:only-of-type {\n",
       "        vertical-align: middle;\n",
       "    }\n",
       "\n",
       "    .dataframe tbody tr th {\n",
       "        vertical-align: top;\n",
       "    }\n",
       "\n",
       "    .dataframe thead th {\n",
       "        text-align: right;\n",
       "    }\n",
       "</style>\n",
       "<table border=\"1\" class=\"dataframe\">\n",
       "  <thead>\n",
       "    <tr style=\"text-align: right;\">\n",
       "      <th></th>\n",
       "      <th>1</th>\n",
       "    </tr>\n",
       "    <tr>\n",
       "      <th>target</th>\n",
       "      <th></th>\n",
       "    </tr>\n",
       "  </thead>\n",
       "  <tbody>\n",
       "    <tr>\n",
       "      <th>1</th>\n",
       "      <td>594</td>\n",
       "    </tr>\n",
       "    <tr>\n",
       "      <th>2</th>\n",
       "      <td>567</td>\n",
       "    </tr>\n",
       "    <tr>\n",
       "      <th>3</th>\n",
       "      <td>554</td>\n",
       "    </tr>\n",
       "    <tr>\n",
       "      <th>4</th>\n",
       "      <td>598</td>\n",
       "    </tr>\n",
       "    <tr>\n",
       "      <th>5</th>\n",
       "      <td>565</td>\n",
       "    </tr>\n",
       "    <tr>\n",
       "      <th>6</th>\n",
       "      <td>565</td>\n",
       "    </tr>\n",
       "    <tr>\n",
       "      <th>7</th>\n",
       "      <td>547</td>\n",
       "    </tr>\n",
       "    <tr>\n",
       "      <th>8</th>\n",
       "      <td>538</td>\n",
       "    </tr>\n",
       "    <tr>\n",
       "      <th>9</th>\n",
       "      <td>567</td>\n",
       "    </tr>\n",
       "    <tr>\n",
       "      <th>10</th>\n",
       "      <td>575</td>\n",
       "    </tr>\n",
       "    <tr>\n",
       "      <th>11</th>\n",
       "      <td>572</td>\n",
       "    </tr>\n",
       "    <tr>\n",
       "      <th>12</th>\n",
       "      <td>560</td>\n",
       "    </tr>\n",
       "    <tr>\n",
       "      <th>13</th>\n",
       "      <td>607</td>\n",
       "    </tr>\n",
       "    <tr>\n",
       "      <th>14</th>\n",
       "      <td>605</td>\n",
       "    </tr>\n",
       "    <tr>\n",
       "      <th>15</th>\n",
       "      <td>574</td>\n",
       "    </tr>\n",
       "    <tr>\n",
       "      <th>16</th>\n",
       "      <td>597</td>\n",
       "    </tr>\n",
       "    <tr>\n",
       "      <th>17</th>\n",
       "      <td>594</td>\n",
       "    </tr>\n",
       "    <tr>\n",
       "      <th>18</th>\n",
       "      <td>568</td>\n",
       "    </tr>\n",
       "    <tr>\n",
       "      <th>19</th>\n",
       "      <td>563</td>\n",
       "    </tr>\n",
       "    <tr>\n",
       "      <th>20</th>\n",
       "      <td>599</td>\n",
       "    </tr>\n",
       "    <tr>\n",
       "      <th>21</th>\n",
       "      <td>606</td>\n",
       "    </tr>\n",
       "    <tr>\n",
       "      <th>22</th>\n",
       "      <td>581</td>\n",
       "    </tr>\n",
       "    <tr>\n",
       "      <th>23</th>\n",
       "      <td>576</td>\n",
       "    </tr>\n",
       "    <tr>\n",
       "      <th>24</th>\n",
       "      <td>583</td>\n",
       "    </tr>\n",
       "    <tr>\n",
       "      <th>25</th>\n",
       "      <td>602</td>\n",
       "    </tr>\n",
       "    <tr>\n",
       "      <th>26</th>\n",
       "      <td>543</td>\n",
       "    </tr>\n",
       "  </tbody>\n",
       "</table>\n",
       "</div>"
      ],
      "text/plain": [
       "          1\n",
       "target     \n",
       "1       594\n",
       "2       567\n",
       "3       554\n",
       "4       598\n",
       "5       565\n",
       "6       565\n",
       "7       547\n",
       "8       538\n",
       "9       567\n",
       "10      575\n",
       "11      572\n",
       "12      560\n",
       "13      607\n",
       "14      605\n",
       "15      574\n",
       "16      597\n",
       "17      594\n",
       "18      568\n",
       "19      563\n",
       "20      599\n",
       "21      606\n",
       "22      581\n",
       "23      576\n",
       "24      583\n",
       "25      602\n",
       "26      543"
      ]
     },
     "execution_count": 5,
     "metadata": {},
     "output_type": "execute_result"
    }
   ],
   "source": [
    "df.groupby('target').count()[[\"1\"]]"
   ]
  },
  {
   "cell_type": "code",
   "execution_count": 6,
   "metadata": {},
   "outputs": [],
   "source": [
    "classes = list(set(df.target.values))"
   ]
  },
  {
   "cell_type": "markdown",
   "metadata": {},
   "source": [
    "# Generate Unlabeled Data"
   ]
  },
  {
   "cell_type": "markdown",
   "metadata": {},
   "source": [
    "## unlabeled classes\n",
    "I ignore the labels of 20 random classes and treat them as unlabeled, this represent the fact that I don't have all the types of letters labeled in my dataset"
   ]
  },
  {
   "cell_type": "code",
   "execution_count": 7,
   "metadata": {},
   "outputs": [],
   "source": [
    "import random"
   ]
  },
  {
   "cell_type": "code",
   "execution_count": 8,
   "metadata": {},
   "outputs": [],
   "source": [
    "unlabeled_classes = random.sample(classes, k=20)\n",
    "labeled_classes = [c for c in classes if c not in unlabeled_classes]"
   ]
  },
  {
   "cell_type": "code",
   "execution_count": 9,
   "metadata": {},
   "outputs": [
    {
     "data": {
      "text/plain": [
       "20"
      ]
     },
     "execution_count": 9,
     "metadata": {},
     "output_type": "execute_result"
    }
   ],
   "source": [
    "len(set(unlabeled_classes))"
   ]
  },
  {
   "cell_type": "code",
   "execution_count": 10,
   "metadata": {},
   "outputs": [
    {
     "name": "stderr",
     "output_type": "stream",
     "text": [
      "C:\\Users\\Aviv\\Anaconda3\\envs\\research_env\\lib\\site-packages\\ipykernel_launcher.py:2: SettingWithCopyWarning: \n",
      "A value is trying to be set on a copy of a slice from a DataFrame.\n",
      "Try using .loc[row_indexer,col_indexer] = value instead\n",
      "\n",
      "See the caveats in the documentation: https://pandas.pydata.org/pandas-docs/stable/user_guide/indexing.html#returning-a-view-versus-a-copy\n",
      "  \n"
     ]
    }
   ],
   "source": [
    "unlabeled_df = df[df.target.isin(unlabeled_classes)]\n",
    "unlabeled_df['target'] = 0"
   ]
  },
  {
   "cell_type": "markdown",
   "metadata": {},
   "source": [
    "## sample labeled samples from labeled classes\n",
    "this represent the fact that you don't know all the labels of all the  data and predict just some of them. if you had all the labeles so the client wouldn't need an algorithm to classify samples for this class."
   ]
  },
  {
   "cell_type": "code",
   "execution_count": 11,
   "metadata": {},
   "outputs": [],
   "source": [
    "from sklearn.model_selection import train_test_split"
   ]
  },
  {
   "cell_type": "code",
   "execution_count": 12,
   "metadata": {},
   "outputs": [],
   "source": [
    "sample_ratio_options = [0.5]\n",
    "def split_lableled_unlabeled(label_df):\n",
    "    sample_ratio = random.choice(sample_ratio_options)\n",
    "    labeled_df, unlabeled_df = train_test_split(label_df, train_size=sample_ratio)\n",
    "    return labeled_df, unlabeled_df"
   ]
  },
  {
   "cell_type": "code",
   "execution_count": 13,
   "metadata": {},
   "outputs": [],
   "source": [
    "labeled_dfs = []\n",
    "unlabeled_dfs = []\n",
    "\n",
    "for label in labeled_classes:\n",
    "    label_df = df[df.target == label]\n",
    "    labeled_df_new, unlabeled_df_new = split_lableled_unlabeled(label_df)\n",
    "    labeled_dfs.append(labeled_df_new)\n",
    "    unlabeled_dfs.append(unlabeled_df_new)\n",
    "    \n",
    "labeled_df = pd.concat(labeled_dfs)\n",
    "unlabeled_df = pd.concat([unlabeled_df, pd.concat(unlabeled_dfs)])"
   ]
  },
  {
   "cell_type": "code",
   "execution_count": 14,
   "metadata": {},
   "outputs": [
    {
     "data": {
      "text/html": [
       "<div>\n",
       "<style scoped>\n",
       "    .dataframe tbody tr th:only-of-type {\n",
       "        vertical-align: middle;\n",
       "    }\n",
       "\n",
       "    .dataframe tbody tr th {\n",
       "        vertical-align: top;\n",
       "    }\n",
       "\n",
       "    .dataframe thead th {\n",
       "        text-align: right;\n",
       "    }\n",
       "</style>\n",
       "<table border=\"1\" class=\"dataframe\">\n",
       "  <thead>\n",
       "    <tr style=\"text-align: right;\">\n",
       "      <th></th>\n",
       "      <th>1</th>\n",
       "    </tr>\n",
       "    <tr>\n",
       "      <th>target</th>\n",
       "      <th></th>\n",
       "    </tr>\n",
       "  </thead>\n",
       "  <tbody>\n",
       "    <tr>\n",
       "      <th>0</th>\n",
       "      <td>11604</td>\n",
       "    </tr>\n",
       "    <tr>\n",
       "      <th>7</th>\n",
       "      <td>274</td>\n",
       "    </tr>\n",
       "    <tr>\n",
       "      <th>8</th>\n",
       "      <td>269</td>\n",
       "    </tr>\n",
       "    <tr>\n",
       "      <th>12</th>\n",
       "      <td>280</td>\n",
       "    </tr>\n",
       "    <tr>\n",
       "      <th>13</th>\n",
       "      <td>304</td>\n",
       "    </tr>\n",
       "    <tr>\n",
       "      <th>19</th>\n",
       "      <td>282</td>\n",
       "    </tr>\n",
       "    <tr>\n",
       "      <th>22</th>\n",
       "      <td>291</td>\n",
       "    </tr>\n",
       "  </tbody>\n",
       "</table>\n",
       "</div>"
      ],
      "text/plain": [
       "            1\n",
       "target       \n",
       "0       11604\n",
       "7         274\n",
       "8         269\n",
       "12        280\n",
       "13        304\n",
       "19        282\n",
       "22        291"
      ]
     },
     "execution_count": 14,
     "metadata": {},
     "output_type": "execute_result"
    }
   ],
   "source": [
    "unlabeled_df.groupby('target').count()[[\"1\"]]"
   ]
  },
  {
   "cell_type": "markdown",
   "metadata": {},
   "source": [
    "## Train Algorithm"
   ]
  },
  {
   "cell_type": "code",
   "execution_count": 15,
   "metadata": {},
   "outputs": [],
   "source": [
    "from lightgbm import LGBMClassifier"
   ]
  },
  {
   "cell_type": "code",
   "execution_count": 16,
   "metadata": {},
   "outputs": [],
   "source": [
    "X_train, X_test, y_train, y_test = train_test_split(labeled_df.drop('target', axis=1), labeled_df['target'], test_size=0.2, stratify=labeled_df['target'].values)"
   ]
  },
  {
   "cell_type": "code",
   "execution_count": 17,
   "metadata": {},
   "outputs": [],
   "source": [
    "model = LGBMClassifier(class_weight='balanced')"
   ]
  },
  {
   "cell_type": "code",
   "execution_count": 18,
   "metadata": {},
   "outputs": [
    {
     "data": {
      "text/plain": [
       "LGBMClassifier(boosting_type='gbdt', class_weight='balanced',\n",
       "               colsample_bytree=1.0, importance_type='split', learning_rate=0.1,\n",
       "               max_depth=-1, min_child_samples=20, min_child_weight=0.001,\n",
       "               min_split_gain=0.0, n_estimators=100, n_jobs=-1, num_leaves=31,\n",
       "               objective=None, random_state=None, reg_alpha=0.0, reg_lambda=0.0,\n",
       "               silent=True, subsample=1.0, subsample_for_bin=200000,\n",
       "               subsample_freq=0)"
      ]
     },
     "execution_count": 18,
     "metadata": {},
     "output_type": "execute_result"
    }
   ],
   "source": [
    "model.fit(X_train, y_train)"
   ]
  },
  {
   "cell_type": "markdown",
   "metadata": {},
   "source": [
    "# Practical Example of the First Section"
   ]
  },
  {
   "cell_type": "markdown",
   "metadata": {},
   "source": [
    "## Evaluate on test"
   ]
  },
  {
   "cell_type": "code",
   "execution_count": 19,
   "metadata": {},
   "outputs": [],
   "source": [
    "from sklearn.metrics import classification_report"
   ]
  },
  {
   "cell_type": "code",
   "execution_count": 20,
   "metadata": {},
   "outputs": [
    {
     "data": {
      "text/html": [
       "<div>\n",
       "<style scoped>\n",
       "    .dataframe tbody tr th:only-of-type {\n",
       "        vertical-align: middle;\n",
       "    }\n",
       "\n",
       "    .dataframe tbody tr th {\n",
       "        vertical-align: top;\n",
       "    }\n",
       "\n",
       "    .dataframe thead th {\n",
       "        text-align: right;\n",
       "    }\n",
       "</style>\n",
       "<table border=\"1\" class=\"dataframe\">\n",
       "  <thead>\n",
       "    <tr style=\"text-align: right;\">\n",
       "      <th></th>\n",
       "      <th>precision</th>\n",
       "      <th>recall</th>\n",
       "      <th>f1-score</th>\n",
       "      <th>support</th>\n",
       "    </tr>\n",
       "  </thead>\n",
       "  <tbody>\n",
       "    <tr>\n",
       "      <th>7</th>\n",
       "      <td>0.932203</td>\n",
       "      <td>1.000000</td>\n",
       "      <td>0.964912</td>\n",
       "      <td>55.000000</td>\n",
       "    </tr>\n",
       "    <tr>\n",
       "      <th>8</th>\n",
       "      <td>0.962963</td>\n",
       "      <td>0.962963</td>\n",
       "      <td>0.962963</td>\n",
       "      <td>54.000000</td>\n",
       "    </tr>\n",
       "    <tr>\n",
       "      <th>12</th>\n",
       "      <td>1.000000</td>\n",
       "      <td>1.000000</td>\n",
       "      <td>1.000000</td>\n",
       "      <td>56.000000</td>\n",
       "    </tr>\n",
       "    <tr>\n",
       "      <th>13</th>\n",
       "      <td>0.952381</td>\n",
       "      <td>0.983607</td>\n",
       "      <td>0.967742</td>\n",
       "      <td>61.000000</td>\n",
       "    </tr>\n",
       "    <tr>\n",
       "      <th>19</th>\n",
       "      <td>1.000000</td>\n",
       "      <td>0.982143</td>\n",
       "      <td>0.990991</td>\n",
       "      <td>56.000000</td>\n",
       "    </tr>\n",
       "    <tr>\n",
       "      <th>22</th>\n",
       "      <td>1.000000</td>\n",
       "      <td>0.913793</td>\n",
       "      <td>0.954955</td>\n",
       "      <td>58.000000</td>\n",
       "    </tr>\n",
       "    <tr>\n",
       "      <th>accuracy</th>\n",
       "      <td>0.973529</td>\n",
       "      <td>0.973529</td>\n",
       "      <td>0.973529</td>\n",
       "      <td>0.973529</td>\n",
       "    </tr>\n",
       "    <tr>\n",
       "      <th>macro avg</th>\n",
       "      <td>0.974591</td>\n",
       "      <td>0.973751</td>\n",
       "      <td>0.973594</td>\n",
       "      <td>340.000000</td>\n",
       "    </tr>\n",
       "    <tr>\n",
       "      <th>weighted avg</th>\n",
       "      <td>0.974607</td>\n",
       "      <td>0.973529</td>\n",
       "      <td>0.973486</td>\n",
       "      <td>340.000000</td>\n",
       "    </tr>\n",
       "  </tbody>\n",
       "</table>\n",
       "</div>"
      ],
      "text/plain": [
       "              precision    recall  f1-score     support\n",
       "7              0.932203  1.000000  0.964912   55.000000\n",
       "8              0.962963  0.962963  0.962963   54.000000\n",
       "12             1.000000  1.000000  1.000000   56.000000\n",
       "13             0.952381  0.983607  0.967742   61.000000\n",
       "19             1.000000  0.982143  0.990991   56.000000\n",
       "22             1.000000  0.913793  0.954955   58.000000\n",
       "accuracy       0.973529  0.973529  0.973529    0.973529\n",
       "macro avg      0.974591  0.973751  0.973594  340.000000\n",
       "weighted avg   0.974607  0.973529  0.973486  340.000000"
      ]
     },
     "execution_count": 20,
     "metadata": {},
     "output_type": "execute_result"
    }
   ],
   "source": [
    "eval_test = pd.DataFrame(classification_report(y_test, model.predict(X_test), output_dict=True, target_names=[str(c) for c in model.classes_])).T\n",
    "eval_test"
   ]
  },
  {
   "cell_type": "markdown",
   "metadata": {},
   "source": [
    "Looks pretty good right?"
   ]
  },
  {
   "cell_type": "markdown",
   "metadata": {},
   "source": [
    "## Evaluate on unlabeled"
   ]
  },
  {
   "cell_type": "markdown",
   "metadata": {},
   "source": [
    "I ignored the evaluation on the '0' class because it doesn't exist in the train so it is all 0"
   ]
  },
  {
   "cell_type": "code",
   "execution_count": 21,
   "metadata": {},
   "outputs": [
    {
     "data": {
      "text/html": [
       "<div>\n",
       "<style scoped>\n",
       "    .dataframe tbody tr th:only-of-type {\n",
       "        vertical-align: middle;\n",
       "    }\n",
       "\n",
       "    .dataframe tbody tr th {\n",
       "        vertical-align: top;\n",
       "    }\n",
       "\n",
       "    .dataframe thead th {\n",
       "        text-align: right;\n",
       "    }\n",
       "</style>\n",
       "<table border=\"1\" class=\"dataframe\">\n",
       "  <thead>\n",
       "    <tr style=\"text-align: right;\">\n",
       "      <th></th>\n",
       "      <th>precision</th>\n",
       "      <th>recall</th>\n",
       "      <th>f1-score</th>\n",
       "      <th>support</th>\n",
       "    </tr>\n",
       "  </thead>\n",
       "  <tbody>\n",
       "    <tr>\n",
       "      <th>7</th>\n",
       "      <td>0.095776</td>\n",
       "      <td>0.959854</td>\n",
       "      <td>0.174172</td>\n",
       "      <td>274.0</td>\n",
       "    </tr>\n",
       "    <tr>\n",
       "      <th>8</th>\n",
       "      <td>0.086276</td>\n",
       "      <td>0.962825</td>\n",
       "      <td>0.158361</td>\n",
       "      <td>269.0</td>\n",
       "    </tr>\n",
       "    <tr>\n",
       "      <th>12</th>\n",
       "      <td>0.233419</td>\n",
       "      <td>0.967857</td>\n",
       "      <td>0.376128</td>\n",
       "      <td>280.0</td>\n",
       "    </tr>\n",
       "    <tr>\n",
       "      <th>13</th>\n",
       "      <td>0.259162</td>\n",
       "      <td>0.976974</td>\n",
       "      <td>0.409655</td>\n",
       "      <td>304.0</td>\n",
       "    </tr>\n",
       "    <tr>\n",
       "      <th>19</th>\n",
       "      <td>0.090970</td>\n",
       "      <td>0.964539</td>\n",
       "      <td>0.166259</td>\n",
       "      <td>282.0</td>\n",
       "    </tr>\n",
       "    <tr>\n",
       "      <th>22</th>\n",
       "      <td>0.124391</td>\n",
       "      <td>0.965636</td>\n",
       "      <td>0.220392</td>\n",
       "      <td>291.0</td>\n",
       "    </tr>\n",
       "    <tr>\n",
       "      <th>micro avg</th>\n",
       "      <td>0.123497</td>\n",
       "      <td>0.966471</td>\n",
       "      <td>0.219008</td>\n",
       "      <td>1700.0</td>\n",
       "    </tr>\n",
       "    <tr>\n",
       "      <th>macro avg</th>\n",
       "      <td>0.148332</td>\n",
       "      <td>0.966281</td>\n",
       "      <td>0.250828</td>\n",
       "      <td>1700.0</td>\n",
       "    </tr>\n",
       "    <tr>\n",
       "      <th>weighted avg</th>\n",
       "      <td>0.150262</td>\n",
       "      <td>0.966471</td>\n",
       "      <td>0.253643</td>\n",
       "      <td>1700.0</td>\n",
       "    </tr>\n",
       "  </tbody>\n",
       "</table>\n",
       "</div>"
      ],
      "text/plain": [
       "              precision    recall  f1-score  support\n",
       "7              0.095776  0.959854  0.174172    274.0\n",
       "8              0.086276  0.962825  0.158361    269.0\n",
       "12             0.233419  0.967857  0.376128    280.0\n",
       "13             0.259162  0.976974  0.409655    304.0\n",
       "19             0.090970  0.964539  0.166259    282.0\n",
       "22             0.124391  0.965636  0.220392    291.0\n",
       "micro avg      0.123497  0.966471  0.219008   1700.0\n",
       "macro avg      0.148332  0.966281  0.250828   1700.0\n",
       "weighted avg   0.150262  0.966471  0.253643   1700.0"
      ]
     },
     "execution_count": 21,
     "metadata": {},
     "output_type": "execute_result"
    }
   ],
   "source": [
    "eval_unlabeled = pd.DataFrame(classification_report(unlabeled_df['target'], model.predict(unlabeled_df.drop('target', axis=1)), output_dict=True, labels=model.classes_)).T\n",
    "eval_unlabeled"
   ]
  },
  {
   "cell_type": "markdown",
   "metadata": {},
   "source": [
    "in the recall you are right it is pretty good, In the precision Think again!"
   ]
  },
  {
   "cell_type": "markdown",
   "metadata": {},
   "source": [
    "## Compare recall eval to precision eval"
   ]
  },
  {
   "cell_type": "code",
   "execution_count": 22,
   "metadata": {},
   "outputs": [],
   "source": [
    "joined_eval = eval_unlabeled.join(eval_test, rsuffix = '_test', lsuffix='_unlabeled')"
   ]
  },
  {
   "cell_type": "code",
   "execution_count": 23,
   "metadata": {},
   "outputs": [
    {
     "data": {
      "text/html": [
       "<div>\n",
       "<style scoped>\n",
       "    .dataframe tbody tr th:only-of-type {\n",
       "        vertical-align: middle;\n",
       "    }\n",
       "\n",
       "    .dataframe tbody tr th {\n",
       "        vertical-align: top;\n",
       "    }\n",
       "\n",
       "    .dataframe thead th {\n",
       "        text-align: right;\n",
       "    }\n",
       "</style>\n",
       "<table border=\"1\" class=\"dataframe\">\n",
       "  <thead>\n",
       "    <tr style=\"text-align: right;\">\n",
       "      <th></th>\n",
       "      <th>precision_unlabeled</th>\n",
       "      <th>recall_unlabeled</th>\n",
       "      <th>f1-score_unlabeled</th>\n",
       "      <th>support_unlabeled</th>\n",
       "      <th>precision_test</th>\n",
       "      <th>recall_test</th>\n",
       "      <th>f1-score_test</th>\n",
       "      <th>support_test</th>\n",
       "    </tr>\n",
       "  </thead>\n",
       "  <tbody>\n",
       "    <tr>\n",
       "      <th>7</th>\n",
       "      <td>0.095776</td>\n",
       "      <td>0.959854</td>\n",
       "      <td>0.174172</td>\n",
       "      <td>274.0</td>\n",
       "      <td>0.932203</td>\n",
       "      <td>1.000000</td>\n",
       "      <td>0.964912</td>\n",
       "      <td>55.0</td>\n",
       "    </tr>\n",
       "    <tr>\n",
       "      <th>8</th>\n",
       "      <td>0.086276</td>\n",
       "      <td>0.962825</td>\n",
       "      <td>0.158361</td>\n",
       "      <td>269.0</td>\n",
       "      <td>0.962963</td>\n",
       "      <td>0.962963</td>\n",
       "      <td>0.962963</td>\n",
       "      <td>54.0</td>\n",
       "    </tr>\n",
       "    <tr>\n",
       "      <th>12</th>\n",
       "      <td>0.233419</td>\n",
       "      <td>0.967857</td>\n",
       "      <td>0.376128</td>\n",
       "      <td>280.0</td>\n",
       "      <td>1.000000</td>\n",
       "      <td>1.000000</td>\n",
       "      <td>1.000000</td>\n",
       "      <td>56.0</td>\n",
       "    </tr>\n",
       "    <tr>\n",
       "      <th>13</th>\n",
       "      <td>0.259162</td>\n",
       "      <td>0.976974</td>\n",
       "      <td>0.409655</td>\n",
       "      <td>304.0</td>\n",
       "      <td>0.952381</td>\n",
       "      <td>0.983607</td>\n",
       "      <td>0.967742</td>\n",
       "      <td>61.0</td>\n",
       "    </tr>\n",
       "    <tr>\n",
       "      <th>19</th>\n",
       "      <td>0.090970</td>\n",
       "      <td>0.964539</td>\n",
       "      <td>0.166259</td>\n",
       "      <td>282.0</td>\n",
       "      <td>1.000000</td>\n",
       "      <td>0.982143</td>\n",
       "      <td>0.990991</td>\n",
       "      <td>56.0</td>\n",
       "    </tr>\n",
       "    <tr>\n",
       "      <th>22</th>\n",
       "      <td>0.124391</td>\n",
       "      <td>0.965636</td>\n",
       "      <td>0.220392</td>\n",
       "      <td>291.0</td>\n",
       "      <td>1.000000</td>\n",
       "      <td>0.913793</td>\n",
       "      <td>0.954955</td>\n",
       "      <td>58.0</td>\n",
       "    </tr>\n",
       "    <tr>\n",
       "      <th>micro avg</th>\n",
       "      <td>0.123497</td>\n",
       "      <td>0.966471</td>\n",
       "      <td>0.219008</td>\n",
       "      <td>1700.0</td>\n",
       "      <td>NaN</td>\n",
       "      <td>NaN</td>\n",
       "      <td>NaN</td>\n",
       "      <td>NaN</td>\n",
       "    </tr>\n",
       "    <tr>\n",
       "      <th>macro avg</th>\n",
       "      <td>0.148332</td>\n",
       "      <td>0.966281</td>\n",
       "      <td>0.250828</td>\n",
       "      <td>1700.0</td>\n",
       "      <td>0.974591</td>\n",
       "      <td>0.973751</td>\n",
       "      <td>0.973594</td>\n",
       "      <td>340.0</td>\n",
       "    </tr>\n",
       "    <tr>\n",
       "      <th>weighted avg</th>\n",
       "      <td>0.150262</td>\n",
       "      <td>0.966471</td>\n",
       "      <td>0.253643</td>\n",
       "      <td>1700.0</td>\n",
       "      <td>0.974607</td>\n",
       "      <td>0.973529</td>\n",
       "      <td>0.973486</td>\n",
       "      <td>340.0</td>\n",
       "    </tr>\n",
       "  </tbody>\n",
       "</table>\n",
       "</div>"
      ],
      "text/plain": [
       "              precision_unlabeled  recall_unlabeled  f1-score_unlabeled  \\\n",
       "7                        0.095776          0.959854            0.174172   \n",
       "8                        0.086276          0.962825            0.158361   \n",
       "12                       0.233419          0.967857            0.376128   \n",
       "13                       0.259162          0.976974            0.409655   \n",
       "19                       0.090970          0.964539            0.166259   \n",
       "22                       0.124391          0.965636            0.220392   \n",
       "micro avg                0.123497          0.966471            0.219008   \n",
       "macro avg                0.148332          0.966281            0.250828   \n",
       "weighted avg             0.150262          0.966471            0.253643   \n",
       "\n",
       "              support_unlabeled  precision_test  recall_test  f1-score_test  \\\n",
       "7                         274.0        0.932203     1.000000       0.964912   \n",
       "8                         269.0        0.962963     0.962963       0.962963   \n",
       "12                        280.0        1.000000     1.000000       1.000000   \n",
       "13                        304.0        0.952381     0.983607       0.967742   \n",
       "19                        282.0        1.000000     0.982143       0.990991   \n",
       "22                        291.0        1.000000     0.913793       0.954955   \n",
       "micro avg                1700.0             NaN          NaN            NaN   \n",
       "macro avg                1700.0        0.974591     0.973751       0.973594   \n",
       "weighted avg             1700.0        0.974607     0.973529       0.973486   \n",
       "\n",
       "              support_test  \n",
       "7                     55.0  \n",
       "8                     54.0  \n",
       "12                    56.0  \n",
       "13                    61.0  \n",
       "19                    56.0  \n",
       "22                    58.0  \n",
       "micro avg              NaN  \n",
       "macro avg            340.0  \n",
       "weighted avg         340.0  "
      ]
     },
     "execution_count": 23,
     "metadata": {},
     "output_type": "execute_result"
    }
   ],
   "source": [
    "joined_eval"
   ]
  },
  {
   "cell_type": "code",
   "execution_count": 24,
   "metadata": {},
   "outputs": [
    {
     "data": {
      "text/html": [
       "<div>\n",
       "<style scoped>\n",
       "    .dataframe tbody tr th:only-of-type {\n",
       "        vertical-align: middle;\n",
       "    }\n",
       "\n",
       "    .dataframe tbody tr th {\n",
       "        vertical-align: top;\n",
       "    }\n",
       "\n",
       "    .dataframe thead th {\n",
       "        text-align: right;\n",
       "    }\n",
       "</style>\n",
       "<table border=\"1\" class=\"dataframe\">\n",
       "  <thead>\n",
       "    <tr style=\"text-align: right;\">\n",
       "      <th></th>\n",
       "      <th>precision_unlabeled</th>\n",
       "      <th>precision_test</th>\n",
       "      <th>recall_unlabeled</th>\n",
       "      <th>recall_test</th>\n",
       "    </tr>\n",
       "  </thead>\n",
       "  <tbody>\n",
       "    <tr>\n",
       "      <th>7</th>\n",
       "      <td>0.095776</td>\n",
       "      <td>0.932203</td>\n",
       "      <td>0.959854</td>\n",
       "      <td>1.000000</td>\n",
       "    </tr>\n",
       "    <tr>\n",
       "      <th>8</th>\n",
       "      <td>0.086276</td>\n",
       "      <td>0.962963</td>\n",
       "      <td>0.962825</td>\n",
       "      <td>0.962963</td>\n",
       "    </tr>\n",
       "    <tr>\n",
       "      <th>12</th>\n",
       "      <td>0.233419</td>\n",
       "      <td>1.000000</td>\n",
       "      <td>0.967857</td>\n",
       "      <td>1.000000</td>\n",
       "    </tr>\n",
       "    <tr>\n",
       "      <th>13</th>\n",
       "      <td>0.259162</td>\n",
       "      <td>0.952381</td>\n",
       "      <td>0.976974</td>\n",
       "      <td>0.983607</td>\n",
       "    </tr>\n",
       "    <tr>\n",
       "      <th>19</th>\n",
       "      <td>0.090970</td>\n",
       "      <td>1.000000</td>\n",
       "      <td>0.964539</td>\n",
       "      <td>0.982143</td>\n",
       "    </tr>\n",
       "    <tr>\n",
       "      <th>22</th>\n",
       "      <td>0.124391</td>\n",
       "      <td>1.000000</td>\n",
       "      <td>0.965636</td>\n",
       "      <td>0.913793</td>\n",
       "    </tr>\n",
       "    <tr>\n",
       "      <th>macro avg</th>\n",
       "      <td>0.148332</td>\n",
       "      <td>0.974591</td>\n",
       "      <td>0.966281</td>\n",
       "      <td>0.973751</td>\n",
       "    </tr>\n",
       "  </tbody>\n",
       "</table>\n",
       "</div>"
      ],
      "text/plain": [
       "           precision_unlabeled  precision_test  recall_unlabeled  recall_test\n",
       "7                     0.095776        0.932203          0.959854     1.000000\n",
       "8                     0.086276        0.962963          0.962825     0.962963\n",
       "12                    0.233419        1.000000          0.967857     1.000000\n",
       "13                    0.259162        0.952381          0.976974     0.983607\n",
       "19                    0.090970        1.000000          0.964539     0.982143\n",
       "22                    0.124391        1.000000          0.965636     0.913793\n",
       "macro avg             0.148332        0.974591          0.966281     0.973751"
      ]
     },
     "execution_count": 24,
     "metadata": {},
     "output_type": "execute_result"
    }
   ],
   "source": [
    "joined_eval_1 = joined_eval.loc[[str(l) for l in labeled_classes] + ['macro avg']]\n",
    "joined_eval_1[['precision_unlabeled', 'precision_test', 'recall_unlabeled', 'recall_test']]"
   ]
  },
  {
   "cell_type": "markdown",
   "metadata": {},
   "source": [
    "I think I proved my point for the first section of the article"
   ]
  },
  {
   "cell_type": "markdown",
   "metadata": {},
   "source": [
    "# Practical Example of the Second Section"
   ]
  },
  {
   "cell_type": "code",
   "execution_count": 25,
   "metadata": {},
   "outputs": [],
   "source": [
    "def create_pred_df(df, label):\n",
    "    pred_df = pd.DataFrame(model.predict_proba(df), columns=model.classes_)\n",
    "    pred_df['index'] = df.index\n",
    "    pred_df = pred_df.set_index('index')\n",
    "    pred_df['target'] = label\n",
    "    return pred_df"
   ]
  },
  {
   "cell_type": "code",
   "execution_count": 26,
   "metadata": {},
   "outputs": [],
   "source": [
    "def recall_at_k_vs_k(y_test, y_pred, class_size, plot=True, class_name=None):\n",
    "    k=0\n",
    "    recall=np.zeros(len(y_test[y_test == 0]) + 1)\n",
    "    curr_recall = 0\n",
    "    \n",
    "    y_pred_ind_sorted = np.argsort(y_pred.values)[::-1] # from largest prediction to smallest\n",
    "    y_test_sorted = y_test.iloc[y_pred_ind_sorted].values\n",
    "    \n",
    "    pos_size = sum(y_test)\n",
    "    for i in range(len(y_test)):\n",
    "        if y_test_sorted[i] == 1:\n",
    "            curr_recall += 1 / pos_size\n",
    "        else:\n",
    "            k += 1\n",
    "        recall[k] = curr_recall\n",
    "    ks = list(range(len(recall)))\n",
    "    \n",
    "    if plot:\n",
    "        plt.plot(ks[:5 * class_size], recall[:5 * class_size], label='class: ' + str(class_name))\n",
    "        plt.plot([class_size, class_size], [0,1], label='class_size: ' + str(class_size))\n",
    "        plt.grid()\n",
    "        plt.legend()\n",
    "        plt.show()\n",
    "        \n",
    "    return ks, recall\n",
    "        "
   ]
  },
  {
   "cell_type": "code",
   "execution_count": 27,
   "metadata": {},
   "outputs": [],
   "source": [
    "def eval_precision_at_thresh(y_test, y_pred, class_size, thresh=0.5):\n",
    "    curr_recall = 0\n",
    "    curr_k = 0\n",
    "    i=0\n",
    "    pos_size = sum(y_test)\n",
    "\n",
    "\n",
    "    y_pred_ind_sorted = np.argsort(y_pred.values)[::-1] # from largest prediction to smallest\n",
    "    y_test_sorted = y_test.iloc[y_pred_ind_sorted].values\n",
    "    y_pred_sorted = y_pred.iloc[y_pred_ind_sorted].values\n",
    "    \n",
    "    while y_pred_sorted[i] >= thresh:\n",
    "        if y_test_sorted[i] == 1:\n",
    "            curr_recall += 1 / pos_size\n",
    "        else:\n",
    "            curr_k += 1\n",
    "        i += 1\n",
    "    eval_precision = curr_recall * class_size / curr_k\n",
    "    return eval_precision\n"
   ]
  },
  {
   "cell_type": "code",
   "execution_count": 28,
   "metadata": {},
   "outputs": [
    {
     "data": {
      "text/plain": [
       "{0: 11604, 7: 274, 8: 269, 12: 280, 13: 304, 19: 282, 22: 291}"
      ]
     },
     "execution_count": 28,
     "metadata": {},
     "output_type": "execute_result"
    }
   ],
   "source": [
    "class_sizes = dict(unlabeled_df.groupby('target').count()['1'])\n",
    "class_sizes"
   ]
  },
  {
   "cell_type": "code",
   "execution_count": 29,
   "metadata": {},
   "outputs": [],
   "source": [
    "test_pred_df = create_pred_df(X_test, y_test)\n",
    "unlabeled_pred_df = create_pred_df(unlabeled_df.drop('target', axis=1), 0)\n",
    "recall_at_k_calc_df = pd.concat([test_pred_df, unlabeled_pred_df])"
   ]
  },
  {
   "cell_type": "markdown",
   "metadata": {},
   "source": [
    "## Plot recall@k vs. k curves, Calculate Evaluation for Precision"
   ]
  },
  {
   "cell_type": "code",
   "execution_count": 30,
   "metadata": {},
   "outputs": [
    {
     "data": {
      "image/png": "[encoded data removed]",
      "text/plain": [
       "<Figure size 432x288 with 1 Axes>"
      ]
     },
     "metadata": {
      "needs_background": "light"
     },
     "output_type": "display_data"
    },
    {
     "data": {
      "image/png": "[encoded data removed]",
      "text/plain": [
       "<Figure size 432x288 with 1 Axes>"
      ]
     },
     "metadata": {
      "needs_background": "light"
     },
     "output_type": "display_data"
    },
    {
     "data": {
      "image/png": "[encoded data removed]",
      "text/plain": [
       "<Figure size 432x288 with 1 Axes>"
      ]
     },
     "metadata": {
      "needs_background": "light"
     },
     "output_type": "display_data"
    },
    {
     "data": {
      "image/png": "[encoded data removed]",
      "text/plain": [
       "<Figure size 432x288 with 1 Axes>"
      ]
     },
     "metadata": {
      "needs_background": "light"
     },
     "output_type": "display_data"
    },
    {
     "data": {
      "image/png": "[encoded data removed]",
      "text/plain": [
       "<Figure size 432x288 with 1 Axes>"
      ]
     },
     "metadata": {
      "needs_background": "light"
     },
     "output_type": "display_data"
    },
    {
     "data": {
      "image/png": "[encoded data removed]",
      "text/plain": [
       "<Figure size 432x288 with 1 Axes>"
      ]
     },
     "metadata": {
      "needs_background": "light"
     },
     "output_type": "display_data"
    }
   ],
   "source": [
    "precision_evaluated = []\n",
    "for class_to_predict in labeled_classes:\n",
    "    one_vs_class_label = recall_at_k_calc_df.apply(lambda row: int(row['target'] == class_to_predict), axis=1)\n",
    "    recall_at_k_vs_k(one_vs_class_label, recall_at_k_calc_df[class_to_predict], class_sizes[class_to_predict], class_name=class_to_predict)\n",
    "    precision_evaluated.append(eval_precision_at_thresh(one_vs_class_label, recall_at_k_calc_df[class_to_predict], class_sizes[class_to_predict]))"
   ]
  },
  {
   "cell_type": "markdown",
   "metadata": {},
   "source": [
    "## Create Eval df"
   ]
  },
  {
   "cell_type": "code",
   "execution_count": 73,
   "metadata": {},
   "outputs": [
    {
     "data": {
      "text/html": [
       "<div>\n",
       "<style scoped>\n",
       "    .dataframe tbody tr th:only-of-type {\n",
       "        vertical-align: middle;\n",
       "    }\n",
       "\n",
       "    .dataframe tbody tr th {\n",
       "        vertical-align: top;\n",
       "    }\n",
       "\n",
       "    .dataframe thead th {\n",
       "        text-align: right;\n",
       "    }\n",
       "</style>\n",
       "<table border=\"1\" class=\"dataframe\">\n",
       "  <thead>\n",
       "    <tr style=\"text-align: right;\">\n",
       "      <th></th>\n",
       "      <th>precision_by_recall_at_k</th>\n",
       "    </tr>\n",
       "    <tr>\n",
       "      <th>label</th>\n",
       "      <th></th>\n",
       "    </tr>\n",
       "  </thead>\n",
       "  <tbody>\n",
       "    <tr>\n",
       "      <th>7</th>\n",
       "      <td>0.105954</td>\n",
       "    </tr>\n",
       "    <tr>\n",
       "      <th>8</th>\n",
       "      <td>0.094990</td>\n",
       "    </tr>\n",
       "    <tr>\n",
       "      <th>12</th>\n",
       "      <td>0.261927</td>\n",
       "    </tr>\n",
       "    <tr>\n",
       "      <th>13</th>\n",
       "      <td>0.267936</td>\n",
       "    </tr>\n",
       "    <tr>\n",
       "      <th>19</th>\n",
       "      <td>0.097660</td>\n",
       "    </tr>\n",
       "    <tr>\n",
       "      <th>22</th>\n",
       "      <td>0.122654</td>\n",
       "    </tr>\n",
       "    <tr>\n",
       "      <th>macro avg</th>\n",
       "      <td>0.158520</td>\n",
       "    </tr>\n",
       "  </tbody>\n",
       "</table>\n",
       "</div>"
      ],
      "text/plain": [
       "           precision_by_recall_at_k\n",
       "label                              \n",
       "7                          0.105954\n",
       "8                          0.094990\n",
       "12                         0.261927\n",
       "13                         0.267936\n",
       "19                         0.097660\n",
       "22                         0.122654\n",
       "macro avg                  0.158520"
      ]
     },
     "execution_count": 73,
     "metadata": {},
     "output_type": "execute_result"
    }
   ],
   "source": [
    "recall_at_k_eval = pd.DataFrame()\n",
    "recall_at_k_eval['label'] = [str(l) for l in labeled_classes]\n",
    "recall_at_k_eval['precision_by_recall_at_k'] = precision_evaluated\n",
    "macro_eval_df= pd.DataFrame([['macro avg', np.mean(precision_evaluated)]], columns=['label','precision_by_recall_at_k'])\n",
    "recall_at_k_eval = pd.concat([recall_at_k_eval, macro_eval_df])\n",
    "recall_at_k_eval = recall_at_k_eval.set_index('label')\n",
    "recall_at_k_eval"
   ]
  },
  {
   "cell_type": "markdown",
   "metadata": {},
   "source": [
    "## Compare Precision Evaluation"
   ]
  },
  {
   "cell_type": "code",
   "execution_count": 74,
   "metadata": {},
   "outputs": [],
   "source": [
    "joined_eval_2 = joined_eval_1.join(recall_at_k_eval)"
   ]
  },
  {
   "cell_type": "code",
   "execution_count": 75,
   "metadata": {},
   "outputs": [
    {
     "data": {
      "text/html": [
       "<div>\n",
       "<style scoped>\n",
       "    .dataframe tbody tr th:only-of-type {\n",
       "        vertical-align: middle;\n",
       "    }\n",
       "\n",
       "    .dataframe tbody tr th {\n",
       "        vertical-align: top;\n",
       "    }\n",
       "\n",
       "    .dataframe thead th {\n",
       "        text-align: right;\n",
       "    }\n",
       "</style>\n",
       "<table border=\"1\" class=\"dataframe\">\n",
       "  <thead>\n",
       "    <tr style=\"text-align: right;\">\n",
       "      <th></th>\n",
       "      <th>precision_test</th>\n",
       "      <th>precision_unlabeled</th>\n",
       "      <th>precision_by_recall_at_k</th>\n",
       "    </tr>\n",
       "  </thead>\n",
       "  <tbody>\n",
       "    <tr>\n",
       "      <th>7</th>\n",
       "      <td>0.932203</td>\n",
       "      <td>0.095776</td>\n",
       "      <td>0.105954</td>\n",
       "    </tr>\n",
       "    <tr>\n",
       "      <th>8</th>\n",
       "      <td>0.962963</td>\n",
       "      <td>0.086276</td>\n",
       "      <td>0.094990</td>\n",
       "    </tr>\n",
       "    <tr>\n",
       "      <th>12</th>\n",
       "      <td>1.000000</td>\n",
       "      <td>0.233419</td>\n",
       "      <td>0.261927</td>\n",
       "    </tr>\n",
       "    <tr>\n",
       "      <th>13</th>\n",
       "      <td>0.952381</td>\n",
       "      <td>0.259162</td>\n",
       "      <td>0.267936</td>\n",
       "    </tr>\n",
       "    <tr>\n",
       "      <th>19</th>\n",
       "      <td>1.000000</td>\n",
       "      <td>0.090970</td>\n",
       "      <td>0.097660</td>\n",
       "    </tr>\n",
       "    <tr>\n",
       "      <th>22</th>\n",
       "      <td>1.000000</td>\n",
       "      <td>0.124391</td>\n",
       "      <td>0.122654</td>\n",
       "    </tr>\n",
       "    <tr>\n",
       "      <th>macro avg</th>\n",
       "      <td>0.974591</td>\n",
       "      <td>0.148332</td>\n",
       "      <td>0.158520</td>\n",
       "    </tr>\n",
       "  </tbody>\n",
       "</table>\n",
       "</div>"
      ],
      "text/plain": [
       "           precision_test  precision_unlabeled  precision_by_recall_at_k\n",
       "7                0.932203             0.095776                  0.105954\n",
       "8                0.962963             0.086276                  0.094990\n",
       "12               1.000000             0.233419                  0.261927\n",
       "13               0.952381             0.259162                  0.267936\n",
       "19               1.000000             0.090970                  0.097660\n",
       "22               1.000000             0.124391                  0.122654\n",
       "macro avg        0.974591             0.148332                  0.158520"
      ]
     },
     "execution_count": 75,
     "metadata": {},
     "output_type": "execute_result"
    }
   ],
   "source": [
    "joined_eval_2[['precision_test', 'precision_unlabeled', 'precision_by_recall_at_k']]"
   ]
  },
  {
   "cell_type": "markdown",
   "metadata": {},
   "source": [
    "That is what I call good evaluation!!!"
   ]
  },
  {
   "cell_type": "markdown",
   "metadata": {},
   "source": [
    "## Compare Precision Recall curve to the real ones"
   ]
  },
  {
   "cell_type": "code",
   "execution_count": 34,
   "metadata": {},
   "outputs": [],
   "source": [
    "from sklearn.metrics import precision_recall_curve"
   ]
  },
  {
   "cell_type": "code",
   "execution_count": 35,
   "metadata": {},
   "outputs": [],
   "source": [
    "def calc_evaled_precision_recall_curve(y_test, y_pred, class_size):\n",
    "    pos_size = sum(y_test)\n",
    "    curr_k = 0\n",
    "    curr_recall = 0\n",
    "    precision = []\n",
    "    recall = []\n",
    "\n",
    "    y_pred_ind_sorted = np.argsort(y_pred.values)[::-1] # from largest prediction to smallest\n",
    "    y_test_sorted = y_test.iloc[y_pred_ind_sorted].values\n",
    "    y_pred_sorted = y_pred.iloc[y_pred_ind_sorted].values\n",
    "    \n",
    "    for i in range(len(y_pred)):\n",
    "        if y_test_sorted[i] == 1:\n",
    "            curr_recall += 1 / pos_size\n",
    "        else:\n",
    "            curr_k += 1\n",
    "            recall.append(curr_recall)\n",
    "            curr_precision = curr_recall * class_size / curr_k\n",
    "            precision.append(curr_precision)\n",
    "    \n",
    "    return precision, recall"
   ]
  },
  {
   "cell_type": "code",
   "execution_count": 36,
   "metadata": {},
   "outputs": [
    {
     "data": {
      "image/png": "[encoded data removed]",
      "text/plain": [
       "<Figure size 432x288 with 1 Axes>"
      ]
     },
     "metadata": {
      "needs_background": "light"
     },
     "output_type": "display_data"
    },
    {
     "data": {
      "image/png": "[encoded data removed]",
      "text/plain": [
       "<Figure size 432x288 with 1 Axes>"
      ]
     },
     "metadata": {
      "needs_background": "light"
     },
     "output_type": "display_data"
    },
    {
     "data": {
      "image/png": "[encoded data removed]",
      "text/plain": [
       "<Figure size 432x288 with 1 Axes>"
      ]
     },
     "metadata": {
      "needs_background": "light"
     },
     "output_type": "display_data"
    },
    {
     "data": {
      "image/png": "[encoded data removed]",
      "text/plain": [
       "<Figure size 432x288 with 1 Axes>"
      ]
     },
     "metadata": {
      "needs_background": "light"
     },
     "output_type": "display_data"
    },
    {
     "data": {
      "image/png": "[encoded data removed]",
      "text/plain": [
       "<Figure size 432x288 with 1 Axes>"
      ]
     },
     "metadata": {
      "needs_background": "light"
     },
     "output_type": "display_data"
    },
    {
     "data": {
      "image/png": "[encoded data removed]",
      "text/plain": [
       "<Figure size 432x288 with 1 Axes>"
      ]
     },
     "metadata": {
      "needs_background": "light"
     },
     "output_type": "display_data"
    }
   ],
   "source": [
    "for class_to_predict in model.classes_:\n",
    "    one_vs_class_label = unlabeled_df.apply(lambda row: int(row['target'] == class_to_predict), axis=1)\n",
    "    y_pred_class = recall_at_k_calc_df.loc[unlabeled_df.index][class_to_predict]\n",
    "    curr_precision, curr_recall, curr_thresh = precision_recall_curve(one_vs_class_label, y_pred_class)\n",
    "    eval_precision, eval_recall = calc_evaled_precision_recall_curve(one_vs_class_label, y_pred_class, class_size=class_sizes[class_to_predict])\n",
    "    \n",
    "    plt.plot(curr_precision[::-1][:5 * class_sizes[class_to_predict]], label='real_precision')\n",
    "    plt.plot(curr_recall[::-1][:5 * class_sizes[class_to_predict]], label='real_recall')    \n",
    "    plt.plot(eval_precision[:5 * class_sizes[class_to_predict]], label='eval_precision')    \n",
    "    plt.plot(eval_recall[:5 * class_sizes[class_to_predict]], label='eval_recall')\n",
    "    plt.ylim((0,1.2))\n",
    "    plt.legend()\n",
    "    plt.grid()\n",
    "    plt.show()\n",
    "    \n",
    "    "
   ]
  },
  {
   "cell_type": "markdown",
   "metadata": {},
   "source": [
    "## Best Threshold by F1 Score\n",
    "evaluating best decision boundry by best f1 score"
   ]
  },
  {
   "cell_type": "code",
   "execution_count": 37,
   "metadata": {},
   "outputs": [],
   "source": [
    "def calc_best_thresh_by_eval_f1_score(y_test, y_pred, class_size, class_name, plot=True):\n",
    "    best_f1_value = 0\n",
    "    best_f1_index = 0\n",
    "    best_f1_k = 0\n",
    "    pos_size = sum(y_test)\n",
    "    curr_k = 0\n",
    "    curr_recall = 0\n",
    "    precision = []\n",
    "    recall = []\n",
    "    f1 = []\n",
    "    y_pred_ind_sorted = np.argsort(y_pred.values)[::-1] # from largest prediction to smallest\n",
    "    y_test_sorted = y_test.iloc[y_pred_ind_sorted].values\n",
    "    y_pred_sorted = y_pred.iloc[y_pred_ind_sorted].values\n",
    "    \n",
    "    for i in range(len(y_pred)):\n",
    "        if y_test_sorted[i] == 1:\n",
    "            curr_recall += 1 / pos_size\n",
    "        else:\n",
    "            curr_k += 1\n",
    "            recall.append(curr_recall)\n",
    "            curr_precision = curr_recall * class_size / curr_k\n",
    "            precision.append(curr_precision)\n",
    "            curr_f1 = 2 * curr_recall * curr_precision / (curr_recall + curr_precision)\n",
    "            f1.append(curr_f1)\n",
    "            if curr_f1 > best_f1_value:\n",
    "                best_f1_value = curr_f1\n",
    "                best_f1_index = i\n",
    "                best_f1_k = curr_k\n",
    "    \n",
    "    f1_thresh = y_pred_sorted[best_f1_index]\n",
    "    \n",
    "    ks = list(range(len(recall)))\n",
    "    if plot:\n",
    "        print('best f1 value: ' + str(best_f1_value))\n",
    "        plt.plot(ks[:5 * class_size], recall[:5 * class_size], label='recall')\n",
    "        plt.plot(ks[:5 * class_size], precision[:5 * class_size], label='precision')\n",
    "        plt.plot(ks[:5 * class_size], f1[:5 * class_size], label='f1')\n",
    "        plt.plot([class_size, class_size], [0,1], label='class: ' + str(class_name) +' ,size: ' + str(class_size))\n",
    "        plt.plot([best_f1_k, best_f1_k], [0,1], label='decision boundry')\n",
    "        plt.ylim([0, 1.5])\n",
    "        plt.grid()\n",
    "        plt.legend()\n",
    "        plt.show()\n",
    "\n",
    "    \n",
    "    return best_f1_value, f1_thresh, best_f1_value"
   ]
  },
  {
   "cell_type": "code",
   "execution_count": 38,
   "metadata": {},
   "outputs": [
    {
     "name": "stdout",
     "output_type": "stream",
     "text": [
      "best f1 value: 0.5780010045203416\n"
     ]
    },
    {
     "name": "stderr",
     "output_type": "stream",
     "text": [
      "C:\\Users\\Aviv\\Anaconda3\\envs\\research_env\\lib\\site-packages\\ipykernel_launcher.py:23: RuntimeWarning: invalid value encountered in double_scalars\n"
     ]
    },
    {
     "data": {
      "image/png": "[encoded data removed]",
      "text/plain": [
       "<Figure size 432x288 with 1 Axes>"
      ]
     },
     "metadata": {
      "needs_background": "light"
     },
     "output_type": "display_data"
    },
    {
     "name": "stdout",
     "output_type": "stream",
     "text": [
      "best f1 value: 0.5379064510519908\n"
     ]
    },
    {
     "name": "stderr",
     "output_type": "stream",
     "text": [
      "C:\\Users\\Aviv\\Anaconda3\\envs\\research_env\\lib\\site-packages\\ipykernel_launcher.py:23: RuntimeWarning: invalid value encountered in double_scalars\n"
     ]
    },
    {
     "data": {
      "image/png": "[encoded data removed]",
      "text/plain": [
       "<Figure size 432x288 with 1 Axes>"
      ]
     },
     "metadata": {
      "needs_background": "light"
     },
     "output_type": "display_data"
    },
    {
     "name": "stdout",
     "output_type": "stream",
     "text": [
      "best f1 value: 0.9147609147609154\n"
     ]
    },
    {
     "name": "stderr",
     "output_type": "stream",
     "text": [
      "C:\\Users\\Aviv\\Anaconda3\\envs\\research_env\\lib\\site-packages\\ipykernel_launcher.py:23: RuntimeWarning: invalid value encountered in double_scalars\n"
     ]
    },
    {
     "data": {
      "image/png": "[encoded data removed]",
      "text/plain": [
       "<Figure size 432x288 with 1 Axes>"
      ]
     },
     "metadata": {
      "needs_background": "light"
     },
     "output_type": "display_data"
    },
    {
     "name": "stdout",
     "output_type": "stream",
     "text": [
      "best f1 value: 0.8863200429656536\n"
     ]
    },
    {
     "name": "stderr",
     "output_type": "stream",
     "text": [
      "C:\\Users\\Aviv\\Anaconda3\\envs\\research_env\\lib\\site-packages\\ipykernel_launcher.py:23: RuntimeWarning: invalid value encountered in double_scalars\n"
     ]
    },
    {
     "data": {
      "image/png": "[encoded data removed]",
      "text/plain": [
       "<Figure size 432x288 with 1 Axes>"
      ]
     },
     "metadata": {
      "needs_background": "light"
     },
     "output_type": "display_data"
    },
    {
     "name": "stdout",
     "output_type": "stream",
     "text": [
      "best f1 value: 0.43455402465554754\n"
     ]
    },
    {
     "data": {
      "image/png": "[encoded data removed]",
      "text/plain": [
       "<Figure size 432x288 with 1 Axes>"
      ]
     },
     "metadata": {
      "needs_background": "light"
     },
     "output_type": "display_data"
    },
    {
     "name": "stderr",
     "output_type": "stream",
     "text": [
      "C:\\Users\\Aviv\\Anaconda3\\envs\\research_env\\lib\\site-packages\\ipykernel_launcher.py:23: RuntimeWarning: invalid value encountered in double_scalars\n"
     ]
    },
    {
     "name": "stdout",
     "output_type": "stream",
     "text": [
      "best f1 value: 0.5062675647945756\n"
     ]
    },
    {
     "data": {
      "image/png": "[encoded data removed]",
      "text/plain": [
       "<Figure size 432x288 with 1 Axes>"
      ]
     },
     "metadata": {
      "needs_background": "light"
     },
     "output_type": "display_data"
    }
   ],
   "source": [
    "f1_evals = []\n",
    "f1_threshs = []\n",
    "f1_ests = []\n",
    "for class_to_predict in model.classes_:\n",
    "    one_vs_class_label = recall_at_k_calc_df.apply(lambda row: int(row['target'] == class_to_predict), axis=1)\n",
    "    f1_score, f1_thresh, f1_est = calc_best_thresh_by_eval_f1_score(one_vs_class_label, recall_at_k_calc_df[class_to_predict], class_sizes[class_to_predict], class_name=class_to_predict)\n",
    "    f1_evals.append(f1_score)\n",
    "    f1_threshs.append(f1_thresh)\n",
    "    f1_ests.append(f1_est)"
   ]
  },
  {
   "cell_type": "code",
   "execution_count": 39,
   "metadata": {},
   "outputs": [],
   "source": [
    "classification_reports = []\n",
    "for l in range(len(model.classes_)):\n",
    "        classification_reports.append(pd.DataFrame(classification_report(unlabeled_df['target'],\n",
    "                                                   model.classes_[l] *(model.predict_proba(unlabeled_df.drop('target', axis=1))[:, l] > f1_threshs[l]).astype(int),\n",
    "                                                   output_dict=True, labels=[model.classes_[l]])).T.iloc[[0]])"
   ]
  },
  {
   "cell_type": "code",
   "execution_count": 40,
   "metadata": {},
   "outputs": [
    {
     "data": {
      "text/html": [
       "<div>\n",
       "<style scoped>\n",
       "    .dataframe tbody tr th:only-of-type {\n",
       "        vertical-align: middle;\n",
       "    }\n",
       "\n",
       "    .dataframe tbody tr th {\n",
       "        vertical-align: top;\n",
       "    }\n",
       "\n",
       "    .dataframe thead th {\n",
       "        text-align: right;\n",
       "    }\n",
       "</style>\n",
       "<table border=\"1\" class=\"dataframe\">\n",
       "  <thead>\n",
       "    <tr style=\"text-align: right;\">\n",
       "      <th></th>\n",
       "      <th>precision</th>\n",
       "      <th>recall</th>\n",
       "      <th>f1-score</th>\n",
       "      <th>support</th>\n",
       "      <th>f1-score_est</th>\n",
       "    </tr>\n",
       "  </thead>\n",
       "  <tbody>\n",
       "    <tr>\n",
       "      <th>7</th>\n",
       "      <td>0.804598</td>\n",
       "      <td>0.255474</td>\n",
       "      <td>0.387812</td>\n",
       "      <td>274.0</td>\n",
       "      <td>0.578001</td>\n",
       "    </tr>\n",
       "    <tr>\n",
       "      <th>8</th>\n",
       "      <td>0.660256</td>\n",
       "      <td>0.382900</td>\n",
       "      <td>0.484706</td>\n",
       "      <td>269.0</td>\n",
       "      <td>0.537906</td>\n",
       "    </tr>\n",
       "    <tr>\n",
       "      <th>12</th>\n",
       "      <td>0.990000</td>\n",
       "      <td>0.707143</td>\n",
       "      <td>0.825000</td>\n",
       "      <td>280.0</td>\n",
       "      <td>0.914761</td>\n",
       "    </tr>\n",
       "    <tr>\n",
       "      <th>13</th>\n",
       "      <td>0.809524</td>\n",
       "      <td>0.894737</td>\n",
       "      <td>0.850000</td>\n",
       "      <td>304.0</td>\n",
       "      <td>0.886320</td>\n",
       "    </tr>\n",
       "    <tr>\n",
       "      <th>19</th>\n",
       "      <td>0.302970</td>\n",
       "      <td>0.542553</td>\n",
       "      <td>0.388818</td>\n",
       "      <td>282.0</td>\n",
       "      <td>0.434554</td>\n",
       "    </tr>\n",
       "    <tr>\n",
       "      <th>22</th>\n",
       "      <td>0.413721</td>\n",
       "      <td>0.683849</td>\n",
       "      <td>0.515544</td>\n",
       "      <td>291.0</td>\n",
       "      <td>0.506268</td>\n",
       "    </tr>\n",
       "  </tbody>\n",
       "</table>\n",
       "</div>"
      ],
      "text/plain": [
       "    precision    recall  f1-score  support  f1-score_est\n",
       "7    0.804598  0.255474  0.387812    274.0      0.578001\n",
       "8    0.660256  0.382900  0.484706    269.0      0.537906\n",
       "12   0.990000  0.707143  0.825000    280.0      0.914761\n",
       "13   0.809524  0.894737  0.850000    304.0      0.886320\n",
       "19   0.302970  0.542553  0.388818    282.0      0.434554\n",
       "22   0.413721  0.683849  0.515544    291.0      0.506268"
      ]
     },
     "execution_count": 40,
     "metadata": {},
     "output_type": "execute_result"
    }
   ],
   "source": [
    "eval_best_f1 = pd.concat(classification_reports)\n",
    "eval_best_f1['f1-score_est'] = f1_ests\n",
    "eval_best_f1"
   ]
  },
  {
   "cell_type": "code",
   "execution_count": 41,
   "metadata": {},
   "outputs": [
    {
     "data": {
      "text/html": [
       "<div>\n",
       "<style scoped>\n",
       "    .dataframe tbody tr th:only-of-type {\n",
       "        vertical-align: middle;\n",
       "    }\n",
       "\n",
       "    .dataframe tbody tr th {\n",
       "        vertical-align: top;\n",
       "    }\n",
       "\n",
       "    .dataframe thead th {\n",
       "        text-align: right;\n",
       "    }\n",
       "</style>\n",
       "<table border=\"1\" class=\"dataframe\">\n",
       "  <thead>\n",
       "    <tr style=\"text-align: right;\">\n",
       "      <th></th>\n",
       "      <th>precision_f1</th>\n",
       "      <th>recall_f1</th>\n",
       "      <th>f1-score_f1</th>\n",
       "      <th>f1-score_est_f1</th>\n",
       "      <th>support_f1</th>\n",
       "    </tr>\n",
       "  </thead>\n",
       "  <tbody>\n",
       "    <tr>\n",
       "      <th>7</th>\n",
       "      <td>0.804598</td>\n",
       "      <td>0.255474</td>\n",
       "      <td>0.387812</td>\n",
       "      <td>0.578001</td>\n",
       "      <td>274.0</td>\n",
       "    </tr>\n",
       "    <tr>\n",
       "      <th>8</th>\n",
       "      <td>0.660256</td>\n",
       "      <td>0.382900</td>\n",
       "      <td>0.484706</td>\n",
       "      <td>0.537906</td>\n",
       "      <td>269.0</td>\n",
       "    </tr>\n",
       "    <tr>\n",
       "      <th>12</th>\n",
       "      <td>0.990000</td>\n",
       "      <td>0.707143</td>\n",
       "      <td>0.825000</td>\n",
       "      <td>0.914761</td>\n",
       "      <td>280.0</td>\n",
       "    </tr>\n",
       "    <tr>\n",
       "      <th>13</th>\n",
       "      <td>0.809524</td>\n",
       "      <td>0.894737</td>\n",
       "      <td>0.850000</td>\n",
       "      <td>0.886320</td>\n",
       "      <td>304.0</td>\n",
       "    </tr>\n",
       "    <tr>\n",
       "      <th>19</th>\n",
       "      <td>0.302970</td>\n",
       "      <td>0.542553</td>\n",
       "      <td>0.388818</td>\n",
       "      <td>0.434554</td>\n",
       "      <td>282.0</td>\n",
       "    </tr>\n",
       "    <tr>\n",
       "      <th>22</th>\n",
       "      <td>0.413721</td>\n",
       "      <td>0.683849</td>\n",
       "      <td>0.515544</td>\n",
       "      <td>0.506268</td>\n",
       "      <td>291.0</td>\n",
       "    </tr>\n",
       "    <tr>\n",
       "      <th>macro avg</th>\n",
       "      <td>0.663512</td>\n",
       "      <td>0.577776</td>\n",
       "      <td>0.575313</td>\n",
       "      <td>0.642968</td>\n",
       "      <td>13304.0</td>\n",
       "    </tr>\n",
       "  </tbody>\n",
       "</table>\n",
       "</div>"
      ],
      "text/plain": [
       "           precision_f1  recall_f1  f1-score_f1  f1-score_est_f1  support_f1\n",
       "7              0.804598   0.255474     0.387812         0.578001       274.0\n",
       "8              0.660256   0.382900     0.484706         0.537906       269.0\n",
       "12             0.990000   0.707143     0.825000         0.914761       280.0\n",
       "13             0.809524   0.894737     0.850000         0.886320       304.0\n",
       "19             0.302970   0.542553     0.388818         0.434554       282.0\n",
       "22             0.413721   0.683849     0.515544         0.506268       291.0\n",
       "macro avg      0.663512   0.577776     0.575313         0.642968     13304.0"
      ]
     },
     "execution_count": 41,
     "metadata": {},
     "output_type": "execute_result"
    }
   ],
   "source": [
    "eval_best_f1 = pd.concat(classification_reports)\n",
    "eval_best_f1['f1-score_est'] = f1_ests\n",
    "eval_best_f1 = eval_best_f1[['precision', 'recall', 'f1-score', 'f1-score_est', 'support']]\n",
    "macro_eval_df= pd.DataFrame([[np.mean(eval_best_f1['precision'].values),\n",
    "                              np.mean(eval_best_f1['recall'].values),\n",
    "                              np.mean(eval_best_f1['f1-score'].values),\n",
    "                              np.mean(eval_best_f1['f1-score_est'].values),\n",
    "                              len(unlabeled_df)]], index=['macro avg'], columns=['precision', 'recall', 'f1-score', 'f1-score_est', 'support'])\n",
    "eval_best_f1 = pd.concat([eval_best_f1, macro_eval_df])\n",
    "eval_best_f1.columns = ['precision_f1', 'recall_f1', 'f1-score_f1', 'f1-score_est_f1', 'support_f1']\n",
    "eval_best_f1"
   ]
  },
  {
   "cell_type": "code",
   "execution_count": 42,
   "metadata": {},
   "outputs": [
    {
     "data": {
      "text/html": [
       "<div>\n",
       "<style scoped>\n",
       "    .dataframe tbody tr th:only-of-type {\n",
       "        vertical-align: middle;\n",
       "    }\n",
       "\n",
       "    .dataframe tbody tr th {\n",
       "        vertical-align: top;\n",
       "    }\n",
       "\n",
       "    .dataframe thead th {\n",
       "        text-align: right;\n",
       "    }\n",
       "</style>\n",
       "<table border=\"1\" class=\"dataframe\">\n",
       "  <thead>\n",
       "    <tr style=\"text-align: right;\">\n",
       "      <th></th>\n",
       "      <th>precision_unlabeled</th>\n",
       "      <th>precision_f1</th>\n",
       "      <th>recall_unlabeled</th>\n",
       "      <th>recall_f1</th>\n",
       "      <th>f1-score_unlabeled</th>\n",
       "      <th>f1-score_f1</th>\n",
       "      <th>f1-score_est_f1</th>\n",
       "    </tr>\n",
       "  </thead>\n",
       "  <tbody>\n",
       "    <tr>\n",
       "      <th>7</th>\n",
       "      <td>0.095776</td>\n",
       "      <td>0.804598</td>\n",
       "      <td>0.959854</td>\n",
       "      <td>0.255474</td>\n",
       "      <td>0.174172</td>\n",
       "      <td>0.387812</td>\n",
       "      <td>0.578001</td>\n",
       "    </tr>\n",
       "    <tr>\n",
       "      <th>8</th>\n",
       "      <td>0.086276</td>\n",
       "      <td>0.660256</td>\n",
       "      <td>0.962825</td>\n",
       "      <td>0.382900</td>\n",
       "      <td>0.158361</td>\n",
       "      <td>0.484706</td>\n",
       "      <td>0.537906</td>\n",
       "    </tr>\n",
       "    <tr>\n",
       "      <th>12</th>\n",
       "      <td>0.233419</td>\n",
       "      <td>0.990000</td>\n",
       "      <td>0.967857</td>\n",
       "      <td>0.707143</td>\n",
       "      <td>0.376128</td>\n",
       "      <td>0.825000</td>\n",
       "      <td>0.914761</td>\n",
       "    </tr>\n",
       "    <tr>\n",
       "      <th>13</th>\n",
       "      <td>0.259162</td>\n",
       "      <td>0.809524</td>\n",
       "      <td>0.976974</td>\n",
       "      <td>0.894737</td>\n",
       "      <td>0.409655</td>\n",
       "      <td>0.850000</td>\n",
       "      <td>0.886320</td>\n",
       "    </tr>\n",
       "    <tr>\n",
       "      <th>19</th>\n",
       "      <td>0.090970</td>\n",
       "      <td>0.302970</td>\n",
       "      <td>0.964539</td>\n",
       "      <td>0.542553</td>\n",
       "      <td>0.166259</td>\n",
       "      <td>0.388818</td>\n",
       "      <td>0.434554</td>\n",
       "    </tr>\n",
       "    <tr>\n",
       "      <th>22</th>\n",
       "      <td>0.124391</td>\n",
       "      <td>0.413721</td>\n",
       "      <td>0.965636</td>\n",
       "      <td>0.683849</td>\n",
       "      <td>0.220392</td>\n",
       "      <td>0.515544</td>\n",
       "      <td>0.506268</td>\n",
       "    </tr>\n",
       "    <tr>\n",
       "      <th>macro avg</th>\n",
       "      <td>0.148332</td>\n",
       "      <td>0.663512</td>\n",
       "      <td>0.966281</td>\n",
       "      <td>0.577776</td>\n",
       "      <td>0.250828</td>\n",
       "      <td>0.575313</td>\n",
       "      <td>0.642968</td>\n",
       "    </tr>\n",
       "  </tbody>\n",
       "</table>\n",
       "</div>"
      ],
      "text/plain": [
       "           precision_unlabeled  precision_f1  recall_unlabeled  recall_f1  \\\n",
       "7                     0.095776      0.804598          0.959854   0.255474   \n",
       "8                     0.086276      0.660256          0.962825   0.382900   \n",
       "12                    0.233419      0.990000          0.967857   0.707143   \n",
       "13                    0.259162      0.809524          0.976974   0.894737   \n",
       "19                    0.090970      0.302970          0.964539   0.542553   \n",
       "22                    0.124391      0.413721          0.965636   0.683849   \n",
       "macro avg             0.148332      0.663512          0.966281   0.577776   \n",
       "\n",
       "           f1-score_unlabeled  f1-score_f1  f1-score_est_f1  \n",
       "7                    0.174172     0.387812         0.578001  \n",
       "8                    0.158361     0.484706         0.537906  \n",
       "12                   0.376128     0.825000         0.914761  \n",
       "13                   0.409655     0.850000         0.886320  \n",
       "19                   0.166259     0.388818         0.434554  \n",
       "22                   0.220392     0.515544         0.506268  \n",
       "macro avg            0.250828     0.575313         0.642968  "
      ]
     },
     "execution_count": 42,
     "metadata": {},
     "output_type": "execute_result"
    }
   ],
   "source": [
    "joined_eval_3 = joined_eval_2.join(eval_best_f1)\n",
    "joined_eval_3[['precision_unlabeled', 'precision_f1', 'recall_unlabeled', 'recall_f1', 'f1-score_unlabeled', 'f1-score_f1', 'f1-score_est_f1']]"
   ]
  },
  {
   "cell_type": "markdown",
   "metadata": {},
   "source": [
    "Big improvement!"
   ]
  },
  {
   "cell_type": "markdown",
   "metadata": {},
   "source": [
    "## Compare threshold to best threshold"
   ]
  },
  {
   "cell_type": "code",
   "execution_count": 43,
   "metadata": {},
   "outputs": [],
   "source": [
    "from sklearn.metrics import f1_score"
   ]
  },
  {
   "cell_type": "code",
   "execution_count": 44,
   "metadata": {},
   "outputs": [],
   "source": [
    "def find_best_f1(y_test, y_pred):\n",
    "    best_f1 = 0\n",
    "    best_thresh = 0\n",
    "    true_count = 0\n",
    "    y_pred_ind_sorted = np.argsort(y_pred.values)[::-1] # from largest prediction to smallest\n",
    "    y_test_sorted = y_test.iloc[y_pred_ind_sorted].values\n",
    "    y_pred_sorted = y_pred.iloc[y_pred_ind_sorted].values\n",
    "    \n",
    "    for i in range(len(y_pred)):\n",
    "        if y_test_sorted[i]:\n",
    "            true_count += 1\n",
    "    \n",
    "    for thresh in y_pred_sorted:\n",
    "        y_pred_curr = (y_pred > thresh).astype(int)\n",
    "        curr_f1 = f1_score(y_test, y_pred_curr)\n",
    "        if curr_f1 > best_f1:\n",
    "            best_f1 = curr_f1\n",
    "            best_thresh = thresh\n",
    "    return best_f1, best_thresh"
   ]
  },
  {
   "cell_type": "code",
   "execution_count": 45,
   "metadata": {},
   "outputs": [],
   "source": [
    "class_to_predict = model.classes_[0]\n",
    "one_vs_class_label = unlabeled_df.apply(lambda row: int(row['target'] == class_to_predict), axis=1)\n",
    "y_pred_class = recall_at_k_calc_df.loc[unlabeled_df.index][class_to_predict]"
   ]
  },
  {
   "cell_type": "code",
   "execution_count": 46,
   "metadata": {},
   "outputs": [
    {
     "name": "stderr",
     "output_type": "stream",
     "text": [
      "C:\\Users\\Aviv\\Anaconda3\\envs\\research_env\\lib\\site-packages\\ipykernel_launcher.py:7: RuntimeWarning: invalid value encountered in double_scalars\n",
      "  import sys\n"
     ]
    }
   ],
   "source": [
    "f1_scores_class = []\n",
    "f1_threshs_class = []\n",
    "for class_to_predict in model.classes_:\n",
    "    one_vs_class_label = unlabeled_df.apply(lambda row: int(row['target'] == class_to_predict), axis=1)\n",
    "    y_pred_class = recall_at_k_calc_df.loc[unlabeled_df.index][class_to_predict]\n",
    "    curr_precision, curr_recall, curr_thresh = precision_recall_curve(one_vs_class_label, y_pred_class)\n",
    "    curr_f1_scores = [2 * p * r / (p + r) for p, r in zip(curr_precision, curr_recall)]\n",
    "    curr_max_f1, curr_max_f1_index = max(curr_f1_scores), np.argmax(curr_f1_scores)    \n",
    "    f1_scores_class.append(curr_max_f1)\n",
    "    f1_threshs_class.append(curr_thresh[curr_max_f1_index])"
   ]
  },
  {
   "cell_type": "code",
   "execution_count": 47,
   "metadata": {},
   "outputs": [
    {
     "data": {
      "text/html": [
       "<div>\n",
       "<style scoped>\n",
       "    .dataframe tbody tr th:only-of-type {\n",
       "        vertical-align: middle;\n",
       "    }\n",
       "\n",
       "    .dataframe tbody tr th {\n",
       "        vertical-align: top;\n",
       "    }\n",
       "\n",
       "    .dataframe thead th {\n",
       "        text-align: right;\n",
       "    }\n",
       "</style>\n",
       "<table border=\"1\" class=\"dataframe\">\n",
       "  <thead>\n",
       "    <tr style=\"text-align: right;\">\n",
       "      <th></th>\n",
       "      <th>optimal_f1</th>\n",
       "      <th>est_thresh_f1</th>\n",
       "      <th>optimal_thresh</th>\n",
       "      <th>est_thresh</th>\n",
       "    </tr>\n",
       "  </thead>\n",
       "  <tbody>\n",
       "    <tr>\n",
       "      <th>7</th>\n",
       "      <td>0.435443</td>\n",
       "      <td>0.387812</td>\n",
       "      <td>0.999645</td>\n",
       "      <td>0.999690</td>\n",
       "    </tr>\n",
       "    <tr>\n",
       "      <th>8</th>\n",
       "      <td>0.526767</td>\n",
       "      <td>0.484706</td>\n",
       "      <td>0.999175</td>\n",
       "      <td>0.999374</td>\n",
       "    </tr>\n",
       "    <tr>\n",
       "      <th>12</th>\n",
       "      <td>0.879245</td>\n",
       "      <td>0.825000</td>\n",
       "      <td>0.993611</td>\n",
       "      <td>0.999136</td>\n",
       "    </tr>\n",
       "    <tr>\n",
       "      <th>13</th>\n",
       "      <td>0.859477</td>\n",
       "      <td>0.850000</td>\n",
       "      <td>0.996135</td>\n",
       "      <td>0.992975</td>\n",
       "    </tr>\n",
       "    <tr>\n",
       "      <th>19</th>\n",
       "      <td>0.400477</td>\n",
       "      <td>0.388818</td>\n",
       "      <td>0.998703</td>\n",
       "      <td>0.999019</td>\n",
       "    </tr>\n",
       "    <tr>\n",
       "      <th>22</th>\n",
       "      <td>0.526619</td>\n",
       "      <td>0.515544</td>\n",
       "      <td>0.999943</td>\n",
       "      <td>0.999550</td>\n",
       "    </tr>\n",
       "  </tbody>\n",
       "</table>\n",
       "</div>"
      ],
      "text/plain": [
       "    optimal_f1  est_thresh_f1  optimal_thresh  est_thresh\n",
       "7     0.435443       0.387812        0.999645    0.999690\n",
       "8     0.526767       0.484706        0.999175    0.999374\n",
       "12    0.879245       0.825000        0.993611    0.999136\n",
       "13    0.859477       0.850000        0.996135    0.992975\n",
       "19    0.400477       0.388818        0.998703    0.999019\n",
       "22    0.526619       0.515544        0.999943    0.999550"
      ]
     },
     "execution_count": 47,
     "metadata": {},
     "output_type": "execute_result"
    }
   ],
   "source": [
    "compare_desicion_boundries_df = pd.DataFrame(zip(f1_scores_class, list(joined_eval_3['f1-score_f1']), f1_threshs_class, f1_threshs),\n",
    "                                             columns=['optimal_f1', 'est_thresh_f1', 'optimal_thresh', 'est_thresh'],\n",
    "                                             index=model.classes_)\n",
    "compare_desicion_boundries_df"
   ]
  },
  {
   "cell_type": "markdown",
   "metadata": {},
   "source": [
    "# Cross Validation Prediction"
   ]
  },
  {
   "cell_type": "code",
   "execution_count": 48,
   "metadata": {},
   "outputs": [],
   "source": [
    "from sklearn.model_selection import cross_val_predict"
   ]
  },
  {
   "cell_type": "code",
   "execution_count": 49,
   "metadata": {},
   "outputs": [],
   "source": [
    "from sklearn.multiclass import OneVsRestClassifier"
   ]
  },
  {
   "cell_type": "code",
   "execution_count": 50,
   "metadata": {},
   "outputs": [],
   "source": [
    "def create_pred_df_cross_val(df, label, model=OneVsRestClassifier(LGBMClassifier(class_weight = 'balanced'), n_jobs=-2)):\n",
    "    predictions = cross_val_predict(model, df, label, cv=10, method='predict_proba')\n",
    "    pred_df = pd.DataFrame(predictions, columns=[0] + labeled_classes)\n",
    "    pred_df['index'] = df.index\n",
    "    pred_df = pred_df.set_index('index')\n",
    "    pred_df['target'] = label\n",
    "    return pred_df"
   ]
  },
  {
   "cell_type": "code",
   "execution_count": 51,
   "metadata": {},
   "outputs": [],
   "source": [
    "unlabeled_no_labels = unlabeled_df.copy()\n",
    "unlabeled_no_labels['target'] = 0\n",
    "df_to_predict_cross_val = pd.concat([labeled_df, unlabeled_no_labels])"
   ]
  },
  {
   "cell_type": "code",
   "execution_count": 52,
   "metadata": {},
   "outputs": [],
   "source": [
    "pred_cross_val = pd.DataFrame()\n",
    "pred_cross_val['index'] = df_to_predict_cross_val.index\n",
    "pred_cross_val['prediction'] = cross_val_predict(OneVsRestClassifier(LGBMClassifier(class_weight = 'balanced'), n_jobs=-2),\n",
    "                                                 df_to_predict_cross_val.drop('target', axis=1), df_to_predict_cross_val['target'], cv=10, method='predict')\n",
    "pred_cross_val = pred_cross_val.set_index('index')"
   ]
  },
  {
   "cell_type": "markdown",
   "metadata": {},
   "source": [
    "# Model Evaluation"
   ]
  },
  {
   "cell_type": "code",
   "execution_count": 53,
   "metadata": {},
   "outputs": [
    {
     "data": {
      "text/html": [
       "<div>\n",
       "<style scoped>\n",
       "    .dataframe tbody tr th:only-of-type {\n",
       "        vertical-align: middle;\n",
       "    }\n",
       "\n",
       "    .dataframe tbody tr th {\n",
       "        vertical-align: top;\n",
       "    }\n",
       "\n",
       "    .dataframe thead th {\n",
       "        text-align: right;\n",
       "    }\n",
       "</style>\n",
       "<table border=\"1\" class=\"dataframe\">\n",
       "  <thead>\n",
       "    <tr style=\"text-align: right;\">\n",
       "      <th></th>\n",
       "      <th>precision</th>\n",
       "      <th>recall</th>\n",
       "      <th>f1-score</th>\n",
       "      <th>support</th>\n",
       "    </tr>\n",
       "  </thead>\n",
       "  <tbody>\n",
       "    <tr>\n",
       "      <th>7</th>\n",
       "      <td>0.903226</td>\n",
       "      <td>0.919708</td>\n",
       "      <td>0.911392</td>\n",
       "      <td>274.0</td>\n",
       "    </tr>\n",
       "    <tr>\n",
       "      <th>8</th>\n",
       "      <td>0.822642</td>\n",
       "      <td>0.810409</td>\n",
       "      <td>0.816479</td>\n",
       "      <td>269.0</td>\n",
       "    </tr>\n",
       "    <tr>\n",
       "      <th>12</th>\n",
       "      <td>0.969231</td>\n",
       "      <td>0.900000</td>\n",
       "      <td>0.933333</td>\n",
       "      <td>280.0</td>\n",
       "    </tr>\n",
       "    <tr>\n",
       "      <th>13</th>\n",
       "      <td>0.945513</td>\n",
       "      <td>0.970395</td>\n",
       "      <td>0.957792</td>\n",
       "      <td>304.0</td>\n",
       "    </tr>\n",
       "    <tr>\n",
       "      <th>19</th>\n",
       "      <td>0.919014</td>\n",
       "      <td>0.925532</td>\n",
       "      <td>0.922261</td>\n",
       "      <td>282.0</td>\n",
       "    </tr>\n",
       "    <tr>\n",
       "      <th>22</th>\n",
       "      <td>0.938776</td>\n",
       "      <td>0.948454</td>\n",
       "      <td>0.943590</td>\n",
       "      <td>291.0</td>\n",
       "    </tr>\n",
       "    <tr>\n",
       "      <th>micro avg</th>\n",
       "      <td>0.917355</td>\n",
       "      <td>0.914118</td>\n",
       "      <td>0.915734</td>\n",
       "      <td>1700.0</td>\n",
       "    </tr>\n",
       "    <tr>\n",
       "      <th>macro avg</th>\n",
       "      <td>0.916400</td>\n",
       "      <td>0.912416</td>\n",
       "      <td>0.914141</td>\n",
       "      <td>1700.0</td>\n",
       "    </tr>\n",
       "    <tr>\n",
       "      <th>weighted avg</th>\n",
       "      <td>0.917612</td>\n",
       "      <td>0.914118</td>\n",
       "      <td>0.915599</td>\n",
       "      <td>1700.0</td>\n",
       "    </tr>\n",
       "  </tbody>\n",
       "</table>\n",
       "</div>"
      ],
      "text/plain": [
       "              precision    recall  f1-score  support\n",
       "7              0.903226  0.919708  0.911392    274.0\n",
       "8              0.822642  0.810409  0.816479    269.0\n",
       "12             0.969231  0.900000  0.933333    280.0\n",
       "13             0.945513  0.970395  0.957792    304.0\n",
       "19             0.919014  0.925532  0.922261    282.0\n",
       "22             0.938776  0.948454  0.943590    291.0\n",
       "micro avg      0.917355  0.914118  0.915734   1700.0\n",
       "macro avg      0.916400  0.912416  0.914141   1700.0\n",
       "weighted avg   0.917612  0.914118  0.915599   1700.0"
      ]
     },
     "execution_count": 53,
     "metadata": {},
     "output_type": "execute_result"
    }
   ],
   "source": [
    "eval_unlabeled_cross_val = pd.DataFrame(classification_report(unlabeled_df['target'], pred_cross_val.loc[unlabeled_df.index]['prediction'], output_dict=True, labels=model.classes_)).T\n",
    "eval_unlabeled_cross_val"
   ]
  },
  {
   "cell_type": "code",
   "execution_count": 54,
   "metadata": {},
   "outputs": [],
   "source": [
    "eval_unlabeled_cross_val = eval_unlabeled_cross_val.loc[joined_eval_3.index]"
   ]
  },
  {
   "cell_type": "markdown",
   "metadata": {},
   "source": [
    "much better precision and f1, let's see how the recall@k vs. k improved from previous model"
   ]
  },
  {
   "cell_type": "markdown",
   "metadata": {},
   "source": [
    "# Eval of cross val prediction vs. regular prediction\n",
    "## recall at k eval"
   ]
  },
  {
   "cell_type": "code",
   "execution_count": 55,
   "metadata": {},
   "outputs": [],
   "source": [
    "cross_val_pred_df = create_pred_df_cross_val(df_to_predict_cross_val.drop('target', axis=1), df_to_predict_cross_val['target'])\n",
    "cross_val_pred_df = cross_val_pred_df.loc[recall_at_k_calc_df.index]"
   ]
  },
  {
   "cell_type": "code",
   "execution_count": 57,
   "metadata": {},
   "outputs": [],
   "source": [
    "from sklearn.metrics import roc_auc_score"
   ]
  },
  {
   "cell_type": "code",
   "execution_count": 78,
   "metadata": {},
   "outputs": [
    {
     "data": {
      "image/png": "[encoded data removed]",
      "text/plain": [
       "<Figure size 432x288 with 1 Axes>"
      ]
     },
     "metadata": {
      "needs_background": "light"
     },
     "output_type": "display_data"
    },
    {
     "data": {
      "image/png": "[encoded data removed]",
      "text/plain": [
       "<Figure size 432x288 with 1 Axes>"
      ]
     },
     "metadata": {
      "needs_background": "light"
     },
     "output_type": "display_data"
    },
    {
     "data": {
      "image/png": "[encoded data removed]",
      "text/plain": [
       "<Figure size 432x288 with 1 Axes>"
      ]
     },
     "metadata": {
      "needs_background": "light"
     },
     "output_type": "display_data"
    },
    {
     "data": {
      "image/png": "[encoded data removed]",
      "text/plain": [
       "<Figure size 432x288 with 1 Axes>"
      ]
     },
     "metadata": {
      "needs_background": "light"
     },
     "output_type": "display_data"
    },
    {
     "data": {
      "image/png": "[encoded data removed]",
      "text/plain": [
       "<Figure size 432x288 with 1 Axes>"
      ]
     },
     "metadata": {
      "needs_background": "light"
     },
     "output_type": "display_data"
    },
    {
     "data": {
      "image/png": "[encoded data removed]",
      "text/plain": [
       "<Figure size 432x288 with 1 Axes>"
      ]
     },
     "metadata": {
      "needs_background": "light"
     },
     "output_type": "display_data"
    }
   ],
   "source": [
    "roc_auc_label = []\n",
    "roc_auc_cv = []\n",
    "\n",
    "for class_to_predict in labeled_classes:\n",
    "    # recall@k only labeled algorithm\n",
    "    one_vs_class_label = recall_at_k_calc_df.apply(lambda row: int(row['target'] == class_to_predict), axis=1)\n",
    "    ks_label, recall_label = recall_at_k_vs_k(one_vs_class_label, recall_at_k_calc_df[class_to_predict], class_sizes[class_to_predict], class_name=class_to_predict, plot=False)\n",
    "    roc_auc_label.append(roc_auc_score(one_vs_class_label, recall_at_k_calc_df[class_to_predict]))\n",
    "    \n",
    "    # recall@k only cross_val algorithm\n",
    "    one_vs_class_label = recall_at_k_calc_df.apply(lambda row: int(row['target'] == class_to_predict), axis=1)\n",
    "    ks_unlabeled, recall_unlabeled = recall_at_k_vs_k(one_vs_class_label, cross_val_pred_df[class_to_predict], class_sizes[class_to_predict], class_name=class_to_predict, plot=False)\n",
    "    roc_auc_cv.append(roc_auc_score(one_vs_class_label, cross_val_pred_df[class_to_predict]))\n",
    "    \n",
    "    plt.plot(ks_label[:5 * class_sizes[class_to_predict]], recall_label[:5 * class_sizes[class_to_predict]], label='label: ' + str(class_to_predict))\n",
    "    plt.plot(ks_unlabeled[:5 * class_sizes[class_to_predict]], recall_unlabeled[:5 * class_sizes[class_to_predict]], label='cross_val: ' + str(class_to_predict))\n",
    "    \n",
    "    plt.plot([class_sizes[class_to_predict], class_sizes[class_to_predict]], [0,1], label='class_size: ' + str(class_sizes[class_to_predict]))\n",
    "    plt.grid()\n",
    "    plt.legend()\n",
    "    plt.show()\n",
    "    "
   ]
  },
  {
   "cell_type": "markdown",
   "metadata": {},
   "source": [
    "## F1 Thresh Eval\n",
    "you will see that by using this algorithm the threshold is close to be optimal, the evaluation of threshold makes f1 a bit worse"
   ]
  },
  {
   "cell_type": "code",
   "execution_count": 59,
   "metadata": {},
   "outputs": [],
   "source": [
    "def calc_best_thresh_by_eval_f1_score(y_test, y_pred, class_size, class_name, plot=True):\n",
    "    best_f1_value = 0\n",
    "    best_f1_index = 0\n",
    "    best_f1_k = 0\n",
    "    pos_size = sum(y_test)\n",
    "    curr_k = 0\n",
    "    curr_recall = 0\n",
    "    precision = []\n",
    "    recall = []\n",
    "    f1 = []\n",
    "    y_pred_ind_sorted = np.argsort(y_pred.values)[::-1] # from largest prediction to smallest\n",
    "    y_test_sorted = y_test.iloc[y_pred_ind_sorted].values\n",
    "    y_pred_sorted = y_pred.iloc[y_pred_ind_sorted].values\n",
    "    \n",
    "    for i in range(len(y_pred)):\n",
    "        if y_test_sorted[i] == 1:\n",
    "            curr_recall += 1 / pos_size\n",
    "        else:\n",
    "            curr_k += 1\n",
    "            recall.append(curr_recall)\n",
    "            curr_precision = curr_recall * class_size / curr_k\n",
    "            precision.append(curr_precision)\n",
    "            curr_f1 = 2 * curr_recall * curr_precision / (curr_recall + curr_precision)\n",
    "            f1.append(curr_f1)\n",
    "            if curr_f1 > best_f1_value:\n",
    "                best_f1_value = curr_f1\n",
    "                best_f1_index = i\n",
    "                best_f1_k = curr_k\n",
    "    \n",
    "    f1_thresh = y_pred_sorted[best_f1_index]\n",
    "    \n",
    "    ks = list(range(len(recall)))\n",
    "    if plot:\n",
    "        print('best f1 value: ' + str(best_f1_value))\n",
    "        plt.plot(ks[:5 * class_size], recall[:5 * class_size], label='recall')\n",
    "        plt.plot(ks[:5 * class_size], precision[:5 * class_size], label='precision')\n",
    "        plt.plot(ks[:5 * class_size], f1[:5 * class_size], label='f1')\n",
    "        plt.plot([class_size, class_size], [0,1], label='class: ' + str(class_name) +' ,size: ' + str(class_size))\n",
    "        plt.plot([best_f1_k, best_f1_k], [0,1], label='decision boundry')\n",
    "        plt.ylim([0, 1.5])\n",
    "        plt.grid()\n",
    "        plt.legend()\n",
    "        plt.show()\n",
    "\n",
    "    \n",
    "    return best_f1_value, f1_thresh, best_f1_value"
   ]
  },
  {
   "cell_type": "code",
   "execution_count": 60,
   "metadata": {},
   "outputs": [
    {
     "name": "stderr",
     "output_type": "stream",
     "text": [
      "C:\\Users\\Aviv\\Anaconda3\\envs\\research_env\\lib\\site-packages\\ipykernel_launcher.py:23: RuntimeWarning: invalid value encountered in double_scalars\n"
     ]
    }
   ],
   "source": [
    "f1_evals = []\n",
    "f1_threshs = []\n",
    "f1_ests = []\n",
    "for class_to_predict in model.classes_:\n",
    "    one_vs_class_label = cross_val_pred_df.apply(lambda row: int(row['target'] == class_to_predict), axis=1)\n",
    "    f1_score, f1_thresh, f1_est = calc_best_thresh_by_eval_f1_score(one_vs_class_label, cross_val_pred_df[class_to_predict], class_sizes[class_to_predict], class_name=class_to_predict, plot=False)\n",
    "    f1_evals.append(f1_score)\n",
    "    f1_threshs.append(f1_thresh)\n",
    "    f1_ests.append(f1_est)"
   ]
  },
  {
   "cell_type": "code",
   "execution_count": 61,
   "metadata": {},
   "outputs": [],
   "source": [
    "classification_reports = []\n",
    "for l in range(len(model.classes_)):\n",
    "        classification_reports.append(pd.DataFrame(classification_report(unlabeled_df['target'],\n",
    "                                                   model.classes_[l] * (cross_val_pred_df.loc[unlabeled_df.index][model.classes_[l]].values > f1_threshs[l]).astype(int),\n",
    "                                                   output_dict=True, labels=[model.classes_[l]])).T.iloc[[0]])"
   ]
  },
  {
   "cell_type": "code",
   "execution_count": 62,
   "metadata": {},
   "outputs": [
    {
     "data": {
      "text/html": [
       "<div>\n",
       "<style scoped>\n",
       "    .dataframe tbody tr th:only-of-type {\n",
       "        vertical-align: middle;\n",
       "    }\n",
       "\n",
       "    .dataframe tbody tr th {\n",
       "        vertical-align: top;\n",
       "    }\n",
       "\n",
       "    .dataframe thead th {\n",
       "        text-align: right;\n",
       "    }\n",
       "</style>\n",
       "<table border=\"1\" class=\"dataframe\">\n",
       "  <thead>\n",
       "    <tr style=\"text-align: right;\">\n",
       "      <th></th>\n",
       "      <th>precision</th>\n",
       "      <th>recall</th>\n",
       "      <th>f1-score</th>\n",
       "      <th>f1-score_est</th>\n",
       "      <th>support</th>\n",
       "    </tr>\n",
       "  </thead>\n",
       "  <tbody>\n",
       "    <tr>\n",
       "      <th>7</th>\n",
       "      <td>0.868966</td>\n",
       "      <td>0.919708</td>\n",
       "      <td>0.893617</td>\n",
       "      <td>0.827369</td>\n",
       "      <td>274.0</td>\n",
       "    </tr>\n",
       "    <tr>\n",
       "      <th>8</th>\n",
       "      <td>0.712500</td>\n",
       "      <td>0.847584</td>\n",
       "      <td>0.774194</td>\n",
       "      <td>0.743001</td>\n",
       "      <td>269.0</td>\n",
       "    </tr>\n",
       "    <tr>\n",
       "      <th>12</th>\n",
       "      <td>0.951311</td>\n",
       "      <td>0.907143</td>\n",
       "      <td>0.928702</td>\n",
       "      <td>0.930657</td>\n",
       "      <td>280.0</td>\n",
       "    </tr>\n",
       "    <tr>\n",
       "      <th>13</th>\n",
       "      <td>0.882006</td>\n",
       "      <td>0.983553</td>\n",
       "      <td>0.930016</td>\n",
       "      <td>0.897668</td>\n",
       "      <td>304.0</td>\n",
       "    </tr>\n",
       "    <tr>\n",
       "      <th>19</th>\n",
       "      <td>0.892256</td>\n",
       "      <td>0.939716</td>\n",
       "      <td>0.915371</td>\n",
       "      <td>0.781404</td>\n",
       "      <td>282.0</td>\n",
       "    </tr>\n",
       "    <tr>\n",
       "      <th>22</th>\n",
       "      <td>0.760108</td>\n",
       "      <td>0.969072</td>\n",
       "      <td>0.851964</td>\n",
       "      <td>0.770721</td>\n",
       "      <td>291.0</td>\n",
       "    </tr>\n",
       "  </tbody>\n",
       "</table>\n",
       "</div>"
      ],
      "text/plain": [
       "    precision    recall  f1-score  f1-score_est  support\n",
       "7    0.868966  0.919708  0.893617      0.827369    274.0\n",
       "8    0.712500  0.847584  0.774194      0.743001    269.0\n",
       "12   0.951311  0.907143  0.928702      0.930657    280.0\n",
       "13   0.882006  0.983553  0.930016      0.897668    304.0\n",
       "19   0.892256  0.939716  0.915371      0.781404    282.0\n",
       "22   0.760108  0.969072  0.851964      0.770721    291.0"
      ]
     },
     "execution_count": 62,
     "metadata": {},
     "output_type": "execute_result"
    }
   ],
   "source": [
    "eval_best_f1_cv = pd.concat(classification_reports)\n",
    "eval_best_f1_cv['f1-score_est'] = f1_ests\n",
    "eval_best_f1_cv = eval_best_f1_cv[['precision', 'recall', 'f1-score', 'f1-score_est', 'support']]\n",
    "eval_best_f1_cv"
   ]
  },
  {
   "cell_type": "code",
   "execution_count": 63,
   "metadata": {},
   "outputs": [
    {
     "data": {
      "text/html": [
       "<div>\n",
       "<style scoped>\n",
       "    .dataframe tbody tr th:only-of-type {\n",
       "        vertical-align: middle;\n",
       "    }\n",
       "\n",
       "    .dataframe tbody tr th {\n",
       "        vertical-align: top;\n",
       "    }\n",
       "\n",
       "    .dataframe thead th {\n",
       "        text-align: right;\n",
       "    }\n",
       "</style>\n",
       "<table border=\"1\" class=\"dataframe\">\n",
       "  <thead>\n",
       "    <tr style=\"text-align: right;\">\n",
       "      <th></th>\n",
       "      <th>precision_est</th>\n",
       "      <th>recall_est</th>\n",
       "      <th>f1-score_est</th>\n",
       "      <th>f1-score_est</th>\n",
       "      <th>support_est</th>\n",
       "      <th>precision_cv</th>\n",
       "      <th>recall_cv</th>\n",
       "      <th>f1-score_cv</th>\n",
       "      <th>support_cv</th>\n",
       "    </tr>\n",
       "  </thead>\n",
       "  <tbody>\n",
       "    <tr>\n",
       "      <th>7</th>\n",
       "      <td>0.868966</td>\n",
       "      <td>0.919708</td>\n",
       "      <td>0.893617</td>\n",
       "      <td>0.827369</td>\n",
       "      <td>274.0</td>\n",
       "      <td>0.903226</td>\n",
       "      <td>0.919708</td>\n",
       "      <td>0.911392</td>\n",
       "      <td>274.0</td>\n",
       "    </tr>\n",
       "    <tr>\n",
       "      <th>8</th>\n",
       "      <td>0.712500</td>\n",
       "      <td>0.847584</td>\n",
       "      <td>0.774194</td>\n",
       "      <td>0.743001</td>\n",
       "      <td>269.0</td>\n",
       "      <td>0.822642</td>\n",
       "      <td>0.810409</td>\n",
       "      <td>0.816479</td>\n",
       "      <td>269.0</td>\n",
       "    </tr>\n",
       "    <tr>\n",
       "      <th>12</th>\n",
       "      <td>0.951311</td>\n",
       "      <td>0.907143</td>\n",
       "      <td>0.928702</td>\n",
       "      <td>0.930657</td>\n",
       "      <td>280.0</td>\n",
       "      <td>0.969231</td>\n",
       "      <td>0.900000</td>\n",
       "      <td>0.933333</td>\n",
       "      <td>280.0</td>\n",
       "    </tr>\n",
       "    <tr>\n",
       "      <th>13</th>\n",
       "      <td>0.882006</td>\n",
       "      <td>0.983553</td>\n",
       "      <td>0.930016</td>\n",
       "      <td>0.897668</td>\n",
       "      <td>304.0</td>\n",
       "      <td>0.945513</td>\n",
       "      <td>0.970395</td>\n",
       "      <td>0.957792</td>\n",
       "      <td>304.0</td>\n",
       "    </tr>\n",
       "    <tr>\n",
       "      <th>19</th>\n",
       "      <td>0.892256</td>\n",
       "      <td>0.939716</td>\n",
       "      <td>0.915371</td>\n",
       "      <td>0.781404</td>\n",
       "      <td>282.0</td>\n",
       "      <td>0.919014</td>\n",
       "      <td>0.925532</td>\n",
       "      <td>0.922261</td>\n",
       "      <td>282.0</td>\n",
       "    </tr>\n",
       "    <tr>\n",
       "      <th>22</th>\n",
       "      <td>0.760108</td>\n",
       "      <td>0.969072</td>\n",
       "      <td>0.851964</td>\n",
       "      <td>0.770721</td>\n",
       "      <td>291.0</td>\n",
       "      <td>0.938776</td>\n",
       "      <td>0.948454</td>\n",
       "      <td>0.943590</td>\n",
       "      <td>291.0</td>\n",
       "    </tr>\n",
       "    <tr>\n",
       "      <th>macro avg</th>\n",
       "      <td>0.844524</td>\n",
       "      <td>0.927796</td>\n",
       "      <td>0.882311</td>\n",
       "      <td>0.825137</td>\n",
       "      <td>13304.0</td>\n",
       "      <td>0.916400</td>\n",
       "      <td>0.912416</td>\n",
       "      <td>0.914141</td>\n",
       "      <td>1700.0</td>\n",
       "    </tr>\n",
       "  </tbody>\n",
       "</table>\n",
       "</div>"
      ],
      "text/plain": [
       "           precision_est  recall_est  f1-score_est  f1-score_est  support_est  \\\n",
       "7               0.868966    0.919708      0.893617      0.827369        274.0   \n",
       "8               0.712500    0.847584      0.774194      0.743001        269.0   \n",
       "12              0.951311    0.907143      0.928702      0.930657        280.0   \n",
       "13              0.882006    0.983553      0.930016      0.897668        304.0   \n",
       "19              0.892256    0.939716      0.915371      0.781404        282.0   \n",
       "22              0.760108    0.969072      0.851964      0.770721        291.0   \n",
       "macro avg       0.844524    0.927796      0.882311      0.825137      13304.0   \n",
       "\n",
       "           precision_cv  recall_cv  f1-score_cv  support_cv  \n",
       "7              0.903226   0.919708     0.911392       274.0  \n",
       "8              0.822642   0.810409     0.816479       269.0  \n",
       "12             0.969231   0.900000     0.933333       280.0  \n",
       "13             0.945513   0.970395     0.957792       304.0  \n",
       "19             0.919014   0.925532     0.922261       282.0  \n",
       "22             0.938776   0.948454     0.943590       291.0  \n",
       "macro avg      0.916400   0.912416     0.914141      1700.0  "
      ]
     },
     "execution_count": 63,
     "metadata": {},
     "output_type": "execute_result"
    }
   ],
   "source": [
    "macro_eval_df_cv= pd.DataFrame([[np.mean(eval_best_f1_cv['precision'].values),\n",
    "                              np.mean(eval_best_f1_cv['recall'].values),\n",
    "                              np.mean(eval_best_f1_cv['f1-score'].values),\n",
    "                              np.mean(eval_best_f1_cv['f1-score_est'].values),\n",
    "                              len(unlabeled_df)]], index=['macro avg'], columns=['precision', 'recall', 'f1-score', 'f1-score_est', 'support'])\n",
    "eval_best_f1_cv = pd.concat([eval_best_f1_cv, macro_eval_df_cv])\n",
    "#eval_best_f1_cv.columns = ['precision_f1_est', 'recall_f1_est', 'f1-score_f1_est', 'f1-score_est_f1_est', 'support_est']\n",
    "compare_df = eval_best_f1_cv.join(eval_unlabeled_cross_val, lsuffix='_est', rsuffix='_cv')\n",
    "compare_df"
   ]
  },
  {
   "cell_type": "markdown",
   "metadata": {},
   "source": [
    "so, this threshold choosing is not needed because you can see now that the f1 got slightly worse"
   ]
  },
  {
   "cell_type": "code",
   "execution_count": 64,
   "metadata": {},
   "outputs": [],
   "source": [
    "eval_cv_final = compare_df[['precision_cv', 'recall_cv', 'f1-score_cv']]"
   ]
  },
  {
   "cell_type": "code",
   "execution_count": 65,
   "metadata": {},
   "outputs": [
    {
     "data": {
      "text/html": [
       "<div>\n",
       "<style scoped>\n",
       "    .dataframe tbody tr th:only-of-type {\n",
       "        vertical-align: middle;\n",
       "    }\n",
       "\n",
       "    .dataframe tbody tr th {\n",
       "        vertical-align: top;\n",
       "    }\n",
       "\n",
       "    .dataframe thead th {\n",
       "        text-align: right;\n",
       "    }\n",
       "</style>\n",
       "<table border=\"1\" class=\"dataframe\">\n",
       "  <thead>\n",
       "    <tr style=\"text-align: right;\">\n",
       "      <th></th>\n",
       "      <th>precision_cv</th>\n",
       "      <th>precision_f1</th>\n",
       "      <th>recall_cv</th>\n",
       "      <th>recall_f1</th>\n",
       "      <th>f1-score_cv</th>\n",
       "      <th>f1-score_f1</th>\n",
       "    </tr>\n",
       "  </thead>\n",
       "  <tbody>\n",
       "    <tr>\n",
       "      <th>7</th>\n",
       "      <td>0.903226</td>\n",
       "      <td>0.804598</td>\n",
       "      <td>0.919708</td>\n",
       "      <td>0.255474</td>\n",
       "      <td>0.911392</td>\n",
       "      <td>0.387812</td>\n",
       "    </tr>\n",
       "    <tr>\n",
       "      <th>8</th>\n",
       "      <td>0.822642</td>\n",
       "      <td>0.660256</td>\n",
       "      <td>0.810409</td>\n",
       "      <td>0.382900</td>\n",
       "      <td>0.816479</td>\n",
       "      <td>0.484706</td>\n",
       "    </tr>\n",
       "    <tr>\n",
       "      <th>12</th>\n",
       "      <td>0.969231</td>\n",
       "      <td>0.990000</td>\n",
       "      <td>0.900000</td>\n",
       "      <td>0.707143</td>\n",
       "      <td>0.933333</td>\n",
       "      <td>0.825000</td>\n",
       "    </tr>\n",
       "    <tr>\n",
       "      <th>13</th>\n",
       "      <td>0.945513</td>\n",
       "      <td>0.809524</td>\n",
       "      <td>0.970395</td>\n",
       "      <td>0.894737</td>\n",
       "      <td>0.957792</td>\n",
       "      <td>0.850000</td>\n",
       "    </tr>\n",
       "    <tr>\n",
       "      <th>19</th>\n",
       "      <td>0.919014</td>\n",
       "      <td>0.302970</td>\n",
       "      <td>0.925532</td>\n",
       "      <td>0.542553</td>\n",
       "      <td>0.922261</td>\n",
       "      <td>0.388818</td>\n",
       "    </tr>\n",
       "    <tr>\n",
       "      <th>22</th>\n",
       "      <td>0.938776</td>\n",
       "      <td>0.413721</td>\n",
       "      <td>0.948454</td>\n",
       "      <td>0.683849</td>\n",
       "      <td>0.943590</td>\n",
       "      <td>0.515544</td>\n",
       "    </tr>\n",
       "    <tr>\n",
       "      <th>macro avg</th>\n",
       "      <td>0.916400</td>\n",
       "      <td>0.663512</td>\n",
       "      <td>0.912416</td>\n",
       "      <td>0.577776</td>\n",
       "      <td>0.914141</td>\n",
       "      <td>0.575313</td>\n",
       "    </tr>\n",
       "  </tbody>\n",
       "</table>\n",
       "</div>"
      ],
      "text/plain": [
       "           precision_cv  precision_f1  recall_cv  recall_f1  f1-score_cv  \\\n",
       "7              0.903226      0.804598   0.919708   0.255474     0.911392   \n",
       "8              0.822642      0.660256   0.810409   0.382900     0.816479   \n",
       "12             0.969231      0.990000   0.900000   0.707143     0.933333   \n",
       "13             0.945513      0.809524   0.970395   0.894737     0.957792   \n",
       "19             0.919014      0.302970   0.925532   0.542553     0.922261   \n",
       "22             0.938776      0.413721   0.948454   0.683849     0.943590   \n",
       "macro avg      0.916400      0.663512   0.912416   0.577776     0.914141   \n",
       "\n",
       "           f1-score_f1  \n",
       "7             0.387812  \n",
       "8             0.484706  \n",
       "12            0.825000  \n",
       "13            0.850000  \n",
       "19            0.388818  \n",
       "22            0.515544  \n",
       "macro avg     0.575313  "
      ]
     },
     "execution_count": 65,
     "metadata": {},
     "output_type": "execute_result"
    }
   ],
   "source": [
    "joined_eval_4 = joined_eval_3.join(eval_cv_final, rsuffix='_cv')\n",
    "joined_eval_4[['precision_cv', 'precision_f1', 'recall_cv', 'recall_f1', 'f1-score_cv', 'f1-score_f1']]"
   ]
  },
  {
   "cell_type": "code",
   "execution_count": null,
   "metadata": {},
   "outputs": [],
   "source": []
  }
 ],
 "metadata": {
  "kernelspec": {
   "display_name": "Python 3",
   "language": "python",
   "name": "python3"
  },
  "language_info": {
   "codemirror_mode": {
    "name": "ipython",
    "version": 3
   },
   "file_extension": ".py",
   "mimetype": "text/x-python",
   "name": "python",
   "nbconvert_exporter": "python",
   "pygments_lexer": "ipython3",
   "version": "3.7.5"
  }
 },
 "nbformat": 4,
 "nbformat_minor": 4
}
